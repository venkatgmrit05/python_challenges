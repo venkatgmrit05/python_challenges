{
 "cells": [
  {
   "cell_type": "code",
   "execution_count": null,
   "metadata": {},
   "outputs": [],
   "source": [
    "from pyresparser import ResumeParser\n",
    "import os\n",
    "import pdfminer\n",
    "# from docx import Document"
   ]
  },
  {
   "cell_type": "code",
   "execution_count": null,
   "metadata": {},
   "outputs": [],
   "source": [
    "# resume_dir = r'D:\\Data\\OfficeWorkspace-20191016T044923Z-001\\OfficeWorkspace\\Resume'\n",
    "resume_dir = r'.'\n",
    "\n",
    "resumes = [i for i in os.listdir(resume_dir) if i.endswith('.pdf')]"
   ]
  },
  {
   "cell_type": "code",
   "execution_count": null,
   "metadata": {},
   "outputs": [],
   "source": [
    "resume = os.path.join(\n",
    "    resume_dir,\n",
    "    resumes[1]\n",
    "    )\n",
    "\n",
    "resume\n",
    "# os.startfile(resume)"
   ]
  },
  {
   "cell_type": "code",
   "execution_count": null,
   "metadata": {},
   "outputs": [],
   "source": [
    "# rp  = ResumeParser(resume)"
   ]
  },
  {
   "cell_type": "code",
   "execution_count": null,
   "metadata": {},
   "outputs": [],
   "source": [
    "# pdfminer.pdfparser(resume)\n",
    "from pdfminer.high_level import extract_text\n",
    "# pdf2txt.py samples/simple1.pdf"
   ]
  },
  {
   "cell_type": "code",
   "execution_count": null,
   "metadata": {},
   "outputs": [],
   "source": [
    "# print(\n",
    "#     extract_text(resume)\n",
    "# )"
   ]
  },
  {
   "cell_type": "code",
   "execution_count": null,
   "metadata": {},
   "outputs": [],
   "source": [
    "from io import StringIO\n",
    "from pdfminer.high_level import extract_text_to_fp\n",
    "from pdfminer.layout import LAParams\n",
    "output_string = StringIO()"
   ]
  },
  {
   "cell_type": "code",
   "execution_count": null,
   "metadata": {},
   "outputs": [],
   "source": [
    "with open(resume, 'rb') as fin:\n",
    "    ret =extract_text_to_fp(fin, output_string, laparams=LAParams(),\n",
    "        output_type='html', codec=None)"
   ]
  },
  {
   "cell_type": "code",
   "execution_count": null,
   "metadata": {},
   "outputs": [],
   "source": [
    "print(ret)"
   ]
  },
  {
   "cell_type": "code",
   "execution_count": null,
   "metadata": {},
   "outputs": [],
   "source": [
    "from pdfminer.high_level import extract_pages\n",
    "from pdfminer.layout import LTTextContainer\n",
    "for page_layout in extract_pages(resume):\n",
    "    for element in page_layout:\n",
    "        if isinstance(element, LTTextContainer):\n",
    "            print('____')\n",
    "            print(element.get_text())"
   ]
  },
  {
   "cell_type": "code",
   "execution_count": null,
   "metadata": {},
   "outputs": [],
   "source": [
    "# from pdfminer.high_level import extract_pages\n",
    "# from pdfminer.layout import LTTextContainer, LTChar\n",
    "# for page_layout in extract_pages(resume):\n",
    "#     for element in page_layout:\n",
    "#         if isinstance(element, LTTextContainer):\n",
    "#             for text_line in element:\n",
    "#                 for character in text_line:\n",
    "#                     if isinstance(character, LTChar):\n",
    "#                         print(character.fontname)\n",
    "#                         print(character.size)"
   ]
  },
  {
   "cell_type": "code",
   "execution_count": null,
   "metadata": {},
   "outputs": [],
   "source": []
  }
 ],
 "metadata": {
  "kernelspec": {
   "display_name": "env",
   "language": "python",
   "name": "python3"
  },
  "language_info": {
   "codemirror_mode": {
    "name": "ipython",
    "version": 3
   },
   "file_extension": ".py",
   "mimetype": "text/x-python",
   "name": "python",
   "nbconvert_exporter": "python",
   "pygments_lexer": "ipython3",
   "version": "3.10.5"
  },
  "orig_nbformat": 4,
  "vscode": {
   "interpreter": {
    "hash": "f4ae5037b302049da07df54bcc91d8ab506e9ef81582c47579a6aaf23d87a5ad"
   }
  }
 },
 "nbformat": 4,
 "nbformat_minor": 2
}
