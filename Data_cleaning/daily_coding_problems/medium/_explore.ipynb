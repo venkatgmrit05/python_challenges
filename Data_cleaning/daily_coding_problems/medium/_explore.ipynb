{
 "cells": [
  {
   "cell_type": "code",
   "execution_count": null,
   "metadata": {},
   "outputs": [],
   "source": [
    "s = \"abcdefg\"\n",
    "lst = [\"bc\", \"ef\"]\n",
    "\n",
    "# s = \"abcdefg\"\n",
    "# lst = [\"bcd\", \"def\"]\n",
    "\n",
    "# s = \"abcdefg\"\n",
    "# lst = [\"bcde\", \"def\"]\n",
    "\n",
    "\n",
    "delim1 = '<b>'\n",
    "delim2 = '</b>'\n",
    "# delim1 = '_'\n",
    "# delim2 = '_'\n",
    "\n",
    "substr = []\n",
    "for i in lst:\n",
    "    print('\\n')\n",
    "    print(s)\n",
    "    print(i)\n",
    "    toks = s.split(i)\n",
    "    print(toks)\n",
    "    istr = f\"{delim1}{i}{delim2}\"\n",
    "    substr.append(istr)\n",
    "    print(istr)\n",
    "    ns = istr.join(toks)\n",
    "    print(ns)\n",
    "    # s = ns\n"
   ]
  },
  {
   "cell_type": "code",
   "execution_count": null,
   "metadata": {},
   "outputs": [],
   "source": [
    "\n",
    "a,b = 'bcd','c'\n",
    "in_sequence = None\n",
    "if len(b)>len(a):\n",
    "    a,b=b,a\n",
    "\n",
    "len_b = len(b)\n",
    "print(a[-len_b:])\n",
    "if a[-len_b:] == b:\n",
    "    in_sequence = True\n",
    "else:\n",
    "    in_sequence = False\n",
    "\n",
    "in_sequence\n"
   ]
  },
  {
   "cell_type": "code",
   "execution_count": null,
   "metadata": {},
   "outputs": [],
   "source": [
    "def in_sequence(a,b):\n",
    "    in_sequence = None\n",
    "    if len(b)>len(a):\n",
    "        a,b=b,a\n",
    "\n",
    "    len_b = len(b)\n",
    "    if a[-len_b:] == b:\n",
    "        in_sequence = True\n",
    "    else:\n",
    "        in_sequence = False\n",
    "    return in_sequence\n",
    "\n",
    "a,b = 'bc','cd'\n",
    "\n",
    "print(f\"\\n b follows a : {in_sequence(a,b)}\")"
   ]
  },
  {
   "cell_type": "code",
   "execution_count": null,
   "metadata": {},
   "outputs": [],
   "source": [
    "def combine_str(a,b,on_common = True):\n",
    "\n",
    "    aletters = [i for i in a]\n",
    "    bletters = [i for i in b]\n",
    "\n",
    "    longw = a\n",
    "    shortw = b\n",
    "    long_lst = aletters\n",
    "    short_lst = bletters\n",
    "    \n",
    "    common = [i for i in short_lst if i in long_lst]\n",
    "    common_substr = ''.join(common)\n",
    "    if common_substr:\n",
    "\n",
    "        abin_sequence = in_sequence(a,common_substr)\n",
    "        if abin_sequence:\n",
    "            combined_str = ''.join(longw).replace(common_substr,shortw)\n",
    "        else:\n",
    "            combined_str = None\n",
    "    else:\n",
    "        if on_common: # combine only if common substr exists\n",
    "            combined_str = None\n",
    "        else:\n",
    "            combined_str = a+b\n",
    "    return combined_str, common_substr\n",
    "\n",
    "\n",
    "\n",
    "combine_str('bcd','efgh',False)\n",
    "combine_str('bc','fc',False)\n",
    "\n"
   ]
  },
  {
   "cell_type": "code",
   "execution_count": null,
   "metadata": {},
   "outputs": [],
   "source": []
  },
  {
   "cell_type": "code",
   "execution_count": null,
   "metadata": {},
   "outputs": [],
   "source": [
    "lst = [\"ab\", \"c\", \"cd\", \"de\"]\n",
    "\n",
    "comb = []\n",
    "l2 = lst.copy()\n",
    "\n",
    "while len(lst) !=0:\n",
    "    a = lst.pop(0)\n",
    "    ret = a\n",
    "    for nitem in lst:\n",
    "        print(a)\n",
    "        cret,_ = combine_str(a,nitem)\n",
    "        if cret is not None:\n",
    "            ret = cret\n",
    "    comb.append(ret)\n",
    "    print('\\t',ret)\n",
    "print(comb)\n",
    "\n",
    "\n"
   ]
  },
  {
   "cell_type": "code",
   "execution_count": null,
   "metadata": {},
   "outputs": [],
   "source": [
    "def combine_list0(lst: list):\n",
    "\n",
    "    print(lst)\n",
    "    firstw = lst.pop(0)\n",
    "    print(firstw)\n",
    "    count = 0\n",
    "    for nextw in lst:\n",
    "        print(nextw)\n",
    "        count = +1\n",
    "        if count < 100:\n",
    "            ret, common_substr = combine_str(firstw, nextw)\n",
    "            print(ret,common_substr)\n",
    "            if common_substr is None:\n",
    "                lst = lst.insert(0, ret)\n",
    "                print(lst)\n",
    "        else:\n",
    "            break\n",
    "\n",
    "    print(lst)\n",
    "\n",
    "\n",
    "\n",
    "\n",
    "\n",
    "\n",
    "# lst = [\"ab\", 'bc' , 'cd', 'def' , 'gh', 'ij' , 'jk', 'klm']\n",
    "lst = [\"ab\", \"bc\" , \"cd\"]\n",
    "\n",
    "combine_list(lst)\n"
   ]
  },
  {
   "cell_type": "code",
   "execution_count": null,
   "metadata": {},
   "outputs": [],
   "source": [
    "l = [\"ab\", \"bc\", \"cd\", \"de\"]\n",
    "l.remove(\"ab\")\n",
    "l.insert(0,1)\n",
    "\n",
    "l\n"
   ]
  },
  {
   "cell_type": "code",
   "execution_count": null,
   "metadata": {},
   "outputs": [],
   "source": [
    "substr.sort(reverse=False)\n",
    "substr = [i.strip('_') for i in substr]\n",
    "\n",
    "substr\n",
    "\n",
    "\n"
   ]
  },
  {
   "cell_type": "code",
   "execution_count": null,
   "metadata": {},
   "outputs": [],
   "source": [
    "# org_list = substr.copy()\n",
    "# merged_list = []\n",
    "# for i,j in enumerate(substr):\n",
    "#     for item in org_list:\n",
    "#         if j \n",
    "\n"
   ]
  },
  {
   "cell_type": "code",
   "execution_count": null,
   "metadata": {},
   "outputs": [],
   "source": [
    "{'bcde'} - {'def'}"
   ]
  },
  {
   "cell_type": "code",
   "execution_count": null,
   "metadata": {},
   "outputs": [],
   "source": [
    "'def'.replace('e','x')"
   ]
  },
  {
   "cell_type": "code",
   "execution_count": null,
   "metadata": {},
   "outputs": [],
   "source": [
    "'sea'.__contains__('ser')"
   ]
  },
  {
   "cell_type": "code",
   "execution_count": null,
   "metadata": {},
   "outputs": [],
   "source": [
    "[i for i in 'sea']"
   ]
  },
  {
   "cell_type": "code",
   "execution_count": null,
   "metadata": {},
   "outputs": [],
   "source": [
    "'bcde' + 'def'"
   ]
  },
  {
   "cell_type": "code",
   "execution_count": null,
   "metadata": {},
   "outputs": [],
   "source": [
    "max('bcde','def')"
   ]
  },
  {
   "cell_type": "code",
   "execution_count": 7,
   "metadata": {},
   "outputs": [
    {
     "name": "stdout",
     "output_type": "stream",
     "text": [
      "[1, 2, 3]\n",
      "(5, 6)\n",
      "{'Sjoerd': 4127, 'Jack': 4098, 'Dcab': 7678}\n",
      "x=[1, 2, 3],q=4,y=(5, 6),z={'Sjoerd': 4127, 'Jack': 4098, 'Dcab': 7678},\n"
     ]
    }
   ],
   "source": [
    "def bar(x,q,*y,**z):\n",
    "    print(x)\n",
    "    print(y)\n",
    "    print(z)\n",
    "\n",
    "    print(f\"{x=},{q=},{y=},{z=},\")\n",
    "\n",
    "a = [1,2,3]\n",
    "table = {'Sjoerd': 4127, 'Jack': 4098, 'Dcab': 7678}\n",
    "\n",
    "bar(a,4,5,6,\n",
    "    Sjoerd= 4127, Jack= 4098, Dcab= 7678)"
   ]
  },
  {
   "cell_type": "code",
   "execution_count": 28,
   "metadata": {},
   "outputs": [],
   "source": [
    " def foo(n):\n",
    "    print(\"begin\")\n",
    "    for i in range(n):\n",
    "        print(\"before yield\", i)\n",
    "        yield i\n",
    "        print(\"after yield\", i)\n",
    "        i+=4\n",
    "        print(\"after increment\", i)\n",
    "    print(\"end\")"
   ]
  },
  {
   "cell_type": "code",
   "execution_count": null,
   "metadata": {},
   "outputs": [],
   "source": []
  },
  {
   "cell_type": "code",
   "execution_count": 29,
   "metadata": {},
   "outputs": [],
   "source": [
    "f=foo(10)"
   ]
  },
  {
   "cell_type": "code",
   "execution_count": null,
   "metadata": {},
   "outputs": [],
   "source": []
  },
  {
   "cell_type": "code",
   "execution_count": 35,
   "metadata": {},
   "outputs": [
    {
     "name": "stdout",
     "output_type": "stream",
     "text": [
      "after yield 4\n",
      "after increment 8\n",
      "before yield 5\n"
     ]
    },
    {
     "data": {
      "text/plain": [
       "5"
      ]
     },
     "execution_count": 35,
     "metadata": {},
     "output_type": "execute_result"
    }
   ],
   "source": [
    "next(f)"
   ]
  },
  {
   "cell_type": "code",
   "execution_count": 38,
   "metadata": {},
   "outputs": [
    {
     "name": "stdout",
     "output_type": "stream",
     "text": [
      "bokka programming\n"
     ]
    },
    {
     "ename": "KeyError",
     "evalue": "'%s'",
     "output_type": "error",
     "traceback": [
      "\u001b[1;31m---------------------------------------------------------------------------\u001b[0m",
      "\u001b[1;31mKeyError\u001b[0m                                  Traceback (most recent call last)",
      "\u001b[1;32m<ipython-input-38-cb659f8bfbc8>\u001b[0m in \u001b[0;36m<module>\u001b[1;34m\u001b[0m\n\u001b[0;32m     14\u001b[0m \u001b[1;33m\u001b[0m\u001b[0m\n\u001b[0;32m     15\u001b[0m \u001b[0mprint\u001b[0m\u001b[1;33m(\u001b[0m\u001b[1;34m'{1!s} {0!r}'\u001b[0m\u001b[1;33m.\u001b[0m\u001b[0mformat\u001b[0m\u001b[1;33m(\u001b[0m\u001b[0mfoo\u001b[0m\u001b[1;33m(\u001b[0m\u001b[1;33m)\u001b[0m\u001b[1;33m,\u001b[0m\u001b[0mbar\u001b[0m\u001b[1;33m(\u001b[0m\u001b[1;33m)\u001b[0m\u001b[1;33m)\u001b[0m\u001b[1;33m)\u001b[0m\u001b[1;33m\u001b[0m\u001b[1;33m\u001b[0m\u001b[0m\n\u001b[1;32m---> 16\u001b[1;33m \u001b[0mprint\u001b[0m\u001b[1;33m(\u001b[0m\u001b[1;34m'{%s} {%r}'\u001b[0m\u001b[1;33m.\u001b[0m\u001b[0mformat\u001b[0m\u001b[1;33m(\u001b[0m\u001b[0mfoo\u001b[0m\u001b[1;33m(\u001b[0m\u001b[1;33m)\u001b[0m\u001b[1;33m,\u001b[0m\u001b[0mbar\u001b[0m\u001b[1;33m(\u001b[0m\u001b[1;33m)\u001b[0m\u001b[1;33m)\u001b[0m\u001b[1;33m)\u001b[0m\u001b[1;33m\u001b[0m\u001b[1;33m\u001b[0m\u001b[0m\n\u001b[0m\u001b[0;32m     17\u001b[0m \u001b[0mprint\u001b[0m\u001b[1;33m(\u001b[0m\u001b[1;34m'{1!s} {0!r}'\u001b[0m\u001b[1;33m.\u001b[0m\u001b[0mformat\u001b[0m\u001b[1;33m(\u001b[0m\u001b[0mfoo\u001b[0m\u001b[1;33m(\u001b[0m\u001b[1;33m)\u001b[0m\u001b[1;33m,\u001b[0m\u001b[0mbar\u001b[0m\u001b[1;33m(\u001b[0m\u001b[1;33m)\u001b[0m\u001b[1;33m)\u001b[0m\u001b[1;33m)\u001b[0m\u001b[1;33m\u001b[0m\u001b[1;33m\u001b[0m\u001b[0m\n\u001b[0;32m     18\u001b[0m \u001b[0mprint\u001b[0m\u001b[1;33m(\u001b[0m\u001b[1;34m'{1!s} {0!r}'\u001b[0m\u001b[1;33m.\u001b[0m\u001b[0mformat\u001b[0m\u001b[1;33m(\u001b[0m\u001b[0mfoo\u001b[0m\u001b[1;33m(\u001b[0m\u001b[1;33m)\u001b[0m\u001b[1;33m,\u001b[0m\u001b[0mbar\u001b[0m\u001b[1;33m(\u001b[0m\u001b[1;33m)\u001b[0m\u001b[1;33m)\u001b[0m\u001b[1;33m)\u001b[0m\u001b[1;33m\u001b[0m\u001b[1;33m\u001b[0m\u001b[0m\n",
      "\u001b[1;31mKeyError\u001b[0m: '%s'"
     ]
    },
    {
     "ename": "",
     "evalue": "",
     "output_type": "error",
     "traceback": [
      "\u001b[1;31mThe Kernel crashed while executing code in the the current cell or a previous cell. Please review the code in the cell(s) to identify a possible cause of the failure. Click <a href='https://aka.ms/vscodeJupyterKernelCrash'>here</a> for more info. View Jupyter <a href='command:jupyter.viewOutput'>log</a> for further details."
     ]
    }
   ],
   "source": [
    "class foo:\n",
    "    def __str__(self):\n",
    "        return 'testing'\n",
    "    \n",
    "    def __repr__(self):\n",
    "        return 'programming'\n",
    "\n",
    "class bar:\n",
    "    def __str__(self):\n",
    "        return 'bokka'\n",
    "    \n",
    "    def __repr__(self):\n",
    "        return 'code'\n",
    "\n",
    "print('{1!s} {0!r}'.format(foo(),bar()))\n",
    "print('{%s} {%r}'.format(foo(),bar()))\n",
    "print('{1!s} {0!r}'.format(foo(),bar()))\n",
    "print('{1!s} {0!r}'.format(foo(),bar()))"
   ]
  },
  {
   "cell_type": "code",
   "execution_count": null,
   "metadata": {},
   "outputs": [],
   "source": []
  },
  {
   "cell_type": "code",
   "execution_count": null,
   "metadata": {},
   "outputs": [],
   "source": []
  },
  {
   "cell_type": "code",
   "execution_count": null,
   "metadata": {},
   "outputs": [],
   "source": []
  },
  {
   "cell_type": "code",
   "execution_count": null,
   "metadata": {},
   "outputs": [],
   "source": []
  },
  {
   "cell_type": "code",
   "execution_count": null,
   "metadata": {},
   "outputs": [],
   "source": []
  },
  {
   "cell_type": "code",
   "execution_count": null,
   "metadata": {},
   "outputs": [],
   "source": []
  },
  {
   "cell_type": "code",
   "execution_count": null,
   "metadata": {},
   "outputs": [],
   "source": []
  },
  {
   "cell_type": "code",
   "execution_count": null,
   "metadata": {},
   "outputs": [],
   "source": []
  },
  {
   "cell_type": "code",
   "execution_count": null,
   "metadata": {},
   "outputs": [],
   "source": []
  }
 ],
 "metadata": {
  "kernelspec": {
   "display_name": "Python 3.8.5 ('ml1')",
   "language": "python",
   "name": "python3"
  },
  "language_info": {
   "codemirror_mode": {
    "name": "ipython",
    "version": 3
   },
   "file_extension": ".py",
   "mimetype": "text/x-python",
   "name": "python",
   "nbconvert_exporter": "python",
   "pygments_lexer": "ipython3",
   "version": "3.8.5 (default, Sep  3 2020, 21:29:08) [MSC v.1916 64 bit (AMD64)]"
  },
  "orig_nbformat": 4,
  "vscode": {
   "interpreter": {
    "hash": "ee7441edeb48d1628deaad59442889437fad3bb9302f2072915643b91fb3ae99"
   }
  }
 },
 "nbformat": 4,
 "nbformat_minor": 2
}
