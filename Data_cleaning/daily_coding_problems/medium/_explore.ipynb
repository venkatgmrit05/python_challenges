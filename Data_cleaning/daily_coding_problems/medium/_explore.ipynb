{
 "cells": [
  {
   "cell_type": "code",
   "execution_count": null,
   "metadata": {},
   "outputs": [],
   "source": [
    "s = \"abcdefg\"\n",
    "lst = [\"bc\", \"ef\"]\n",
    "\n",
    "# s = \"abcdefg\"\n",
    "# lst = [\"bcd\", \"def\"]\n",
    "\n",
    "# s = \"abcdefg\"\n",
    "# lst = [\"bcde\", \"def\"]\n",
    "\n",
    "\n",
    "delim1 = '<b>'\n",
    "delim2 = '</b>'\n",
    "# delim1 = '_'\n",
    "# delim2 = '_'\n",
    "\n",
    "substr = []\n",
    "for i in lst:\n",
    "    print('\\n')\n",
    "    print(s)\n",
    "    print(i)\n",
    "    toks = s.split(i)\n",
    "    print(toks)\n",
    "    istr = f\"{delim1}{i}{delim2}\"\n",
    "    substr.append(istr)\n",
    "    print(istr)\n",
    "    ns = istr.join(toks)\n",
    "    print(ns)\n",
    "    # s = ns\n"
   ]
  },
  {
   "cell_type": "code",
   "execution_count": null,
   "metadata": {},
   "outputs": [],
   "source": [
    "\n",
    "a,b = 'bcd','c'\n",
    "in_sequence = None\n",
    "if len(b)>len(a):\n",
    "    a,b=b,a\n",
    "\n",
    "len_b = len(b)\n",
    "print(a[-len_b:])\n",
    "if a[-len_b:] == b:\n",
    "    in_sequence = True\n",
    "else:\n",
    "    in_sequence = False\n",
    "\n",
    "in_sequence\n"
   ]
  },
  {
   "cell_type": "code",
   "execution_count": null,
   "metadata": {},
   "outputs": [],
   "source": [
    "def in_sequence(a,b):\n",
    "    in_sequence = None\n",
    "    if len(b)>len(a):\n",
    "        a,b=b,a\n",
    "\n",
    "    len_b = len(b)\n",
    "    if a[-len_b:] == b:\n",
    "        in_sequence = True\n",
    "    else:\n",
    "        in_sequence = False\n",
    "    return in_sequence\n",
    "\n",
    "a,b = 'bc','cd'\n",
    "\n",
    "print(f\"\\n b follows a : {in_sequence(a,b)}\")"
   ]
  },
  {
   "cell_type": "code",
   "execution_count": null,
   "metadata": {},
   "outputs": [],
   "source": [
    "def combine_str(a,b,on_common = True):\n",
    "\n",
    "    aletters = [i for i in a]\n",
    "    bletters = [i for i in b]\n",
    "\n",
    "    longw = a\n",
    "    shortw = b\n",
    "    long_lst = aletters\n",
    "    short_lst = bletters\n",
    "    \n",
    "    common = [i for i in short_lst if i in long_lst]\n",
    "    common_substr = ''.join(common)\n",
    "    if common_substr:\n",
    "\n",
    "        abin_sequence = in_sequence(a,common_substr)\n",
    "        if abin_sequence:\n",
    "            combined_str = ''.join(longw).replace(common_substr,shortw)\n",
    "        else:\n",
    "            combined_str = None\n",
    "    else:\n",
    "        if on_common: # combine only if common substr exists\n",
    "            combined_str = None\n",
    "        else:\n",
    "            combined_str = a+b\n",
    "    return combined_str, common_substr\n",
    "\n",
    "\n",
    "\n",
    "combine_str('bcd','efgh',False)\n",
    "combine_str('bc','fc',False)\n",
    "\n"
   ]
  },
  {
   "cell_type": "code",
   "execution_count": null,
   "metadata": {},
   "outputs": [],
   "source": []
  },
  {
   "cell_type": "code",
   "execution_count": null,
   "metadata": {},
   "outputs": [],
   "source": [
    "lst = [\"ab\", \"c\", \"cd\", \"de\"]\n",
    "\n",
    "comb = []\n",
    "l2 = lst.copy()\n",
    "\n",
    "while len(lst) !=0:\n",
    "    a = lst.pop(0)\n",
    "    ret = a\n",
    "    for nitem in lst:\n",
    "        print(a)\n",
    "        cret,_ = combine_str(a,nitem)\n",
    "        if cret is not None:\n",
    "            ret = cret\n",
    "    comb.append(ret)\n",
    "    print('\\t',ret)\n",
    "print(comb)\n",
    "\n",
    "\n"
   ]
  },
  {
   "cell_type": "code",
   "execution_count": null,
   "metadata": {},
   "outputs": [],
   "source": [
    "def combine_list0(lst: list):\n",
    "\n",
    "    print(lst)\n",
    "    firstw = lst.pop(0)\n",
    "    print(firstw)\n",
    "    count = 0\n",
    "    for nextw in lst:\n",
    "        print(nextw)\n",
    "        count = +1\n",
    "        if count < 100:\n",
    "            ret, common_substr = combine_str(firstw, nextw)\n",
    "            print(ret,common_substr)\n",
    "            if common_substr is None:\n",
    "                lst = lst.insert(0, ret)\n",
    "                print(lst)\n",
    "        else:\n",
    "            break\n",
    "\n",
    "    print(lst)\n",
    "\n",
    "\n",
    "\n",
    "\n",
    "\n",
    "\n",
    "# lst = [\"ab\", 'bc' , 'cd', 'def' , 'gh', 'ij' , 'jk', 'klm']\n",
    "lst = [\"ab\", \"bc\" , \"cd\"]\n",
    "\n",
    "combine_list(lst)\n"
   ]
  },
  {
   "cell_type": "code",
   "execution_count": null,
   "metadata": {},
   "outputs": [],
   "source": [
    "l = [\"ab\", \"bc\", \"cd\", \"de\"]\n",
    "l.remove(\"ab\")\n",
    "l.insert(0,1)\n",
    "\n",
    "l\n"
   ]
  },
  {
   "cell_type": "code",
   "execution_count": null,
   "metadata": {},
   "outputs": [],
   "source": [
    "substr.sort(reverse=False)\n",
    "substr = [i.strip('_') for i in substr]\n",
    "\n",
    "substr\n",
    "\n",
    "\n"
   ]
  },
  {
   "cell_type": "code",
   "execution_count": null,
   "metadata": {},
   "outputs": [],
   "source": [
    "# org_list = substr.copy()\n",
    "# merged_list = []\n",
    "# for i,j in enumerate(substr):\n",
    "#     for item in org_list:\n",
    "#         if j \n",
    "\n"
   ]
  },
  {
   "cell_type": "code",
   "execution_count": null,
   "metadata": {},
   "outputs": [],
   "source": [
    "{'bcde'} - {'def'}"
   ]
  },
  {
   "cell_type": "code",
   "execution_count": null,
   "metadata": {},
   "outputs": [],
   "source": [
    "'def'.replace('e','x')"
   ]
  },
  {
   "cell_type": "code",
   "execution_count": null,
   "metadata": {},
   "outputs": [],
   "source": [
    "'sea'.__contains__('ser')"
   ]
  },
  {
   "cell_type": "code",
   "execution_count": null,
   "metadata": {},
   "outputs": [],
   "source": [
    "[i for i in 'sea']"
   ]
  },
  {
   "cell_type": "code",
   "execution_count": null,
   "metadata": {},
   "outputs": [],
   "source": [
    "'bcde' + 'def'"
   ]
  },
  {
   "cell_type": "code",
   "execution_count": null,
   "metadata": {},
   "outputs": [],
   "source": [
    "max('bcde','def')"
   ]
  },
  {
   "cell_type": "code",
   "execution_count": null,
   "metadata": {},
   "outputs": [],
   "source": [
    "def bar(x,q,*y,**z):\n",
    "    print(x)\n",
    "    print(y)\n",
    "    print(z)\n",
    "\n",
    "    print(f\"{x=},{q=},{y=},{z=},\")\n",
    "\n",
    "a = [1,2,3]\n",
    "table = {'Sjoerd': 4127, 'Jack': 4098, 'Dcab': 7678}\n",
    "\n",
    "bar(a,4,5,6,\n",
    "    Sjoerd= 4127, Jack= 4098, Dcab= 7678)"
   ]
  },
  {
   "cell_type": "code",
   "execution_count": null,
   "metadata": {},
   "outputs": [],
   "source": [
    " def foo(n):\n",
    "    print(\"begin\")\n",
    "    for i in range(n):\n",
    "        print(\"before yield\", i)\n",
    "        yield i\n",
    "        print(\"after yield\", i)\n",
    "        i+=4\n",
    "        print(\"after increment\", i)\n",
    "    print(\"end\")"
   ]
  },
  {
   "cell_type": "code",
   "execution_count": null,
   "metadata": {},
   "outputs": [],
   "source": []
  },
  {
   "cell_type": "code",
   "execution_count": null,
   "metadata": {},
   "outputs": [],
   "source": [
    "f=foo(10)"
   ]
  },
  {
   "cell_type": "code",
   "execution_count": null,
   "metadata": {},
   "outputs": [],
   "source": []
  },
  {
   "cell_type": "code",
   "execution_count": null,
   "metadata": {},
   "outputs": [],
   "source": [
    "next(f)"
   ]
  },
  {
   "cell_type": "code",
   "execution_count": null,
   "metadata": {},
   "outputs": [],
   "source": [
    "class foo:\n",
    "    def __str__(self):\n",
    "        return 'testing'\n",
    "    \n",
    "    def __repr__(self):\n",
    "        return 'programming'\n",
    "\n",
    "class bar:\n",
    "    def __str__(self):\n",
    "        return 'bokka'\n",
    "    \n",
    "    def __repr__(self):\n",
    "        return 'code'\n",
    "\n",
    "print('{1!s} {0!r}'.format(foo(),bar()))\n",
    "print('{%s} {%r}'.format(foo(),bar()))\n",
    "print('{1!s} {0!r}'.format(foo(),bar()))\n",
    "print('{1!s} {0!r}'.format(foo(),bar()))"
   ]
  },
  {
   "cell_type": "code",
   "execution_count": 5,
   "metadata": {},
   "outputs": [],
   "source": [
    "import numpy as np\n",
    "\n",
    "\n",
    "def iseven(n):\n",
    "    return n%2 ==0\n",
    "\n",
    "def isodd(n):\n",
    "    return not iseven(n)\n",
    "\n",
    "def replace_with(a:list,n,s):\n",
    "\n",
    "    a.insert(n,s)\n",
    "    a.remove(n)\n",
    "    return a\n",
    "    \n",
    "# initializing board\n",
    "\n",
    "\n",
    "def get_board_repr(board):\n",
    "    r,c = board.shape\n",
    "    board_str = ''\n",
    "    board_strs = []\n",
    "    for i in range(r):\n",
    "        r_str = ' '.join(board[i,:])\n",
    "        board_strs.append(r_str)\n",
    "        # print(r_str)\n",
    "    \n",
    "    board_str = '\\n'.join(board_strs)\n",
    "    return  board_str\n",
    "\n",
    "def get_player_symbol(symbol):\n",
    "    \n",
    "    if symbol == \"X\":\n",
    "        return '1'\n",
    "    else:\n",
    "        return '2'\n",
    "\n",
    "def check_win_condition(ret):        \n",
    "    if len(ret) ==1:\n",
    "        win_symbol=list(ret)[0]\n",
    "        winner = get_player_symbol(win_symbol)\n",
    "        return winner\n",
    "\n",
    "\n",
    "def get_winner(board):\n",
    "    win_symbol = None\n",
    "    winner = None\n",
    "    # check rows\n",
    "\n",
    "    r,c = board.shape\n",
    "\n",
    "    for i in range(r):\n",
    "        ret = set(board[i,:])\n",
    "        winner = check_win_condition(ret)\n",
    "    # check columns\n",
    "    \n",
    "    for i in range(c):\n",
    "        ret = set(board[:,i])\n",
    "        winner = check_win_condition(ret)\n",
    "    \n",
    "    # check diagonals\n",
    "    ret = board.diagonal()\n",
    "    winner = check_win_condition(ret)\n",
    "\n",
    "    ret = np.fliplr(board).diagonal()\n",
    "    winner = check_win_condition(ret)\n",
    "    \n",
    "    \n",
    "    return winner\n",
    "\n",
    "\n",
    "def get_board(board_values,board_shape:str='square'):\n",
    "    \n",
    "    board_values = [str(i).rjust(4) for i in board_values]\n",
    "\n",
    "    num_grid = len(board_values)\n",
    "    board_type = 'square'\n",
    "    if board_type == 'square':\n",
    "        board_shape = int(np.sqrt(num_grid))\n",
    "    r,c = (board_shape,board_shape)\n",
    "    a = np.array(board_values).reshape(r,c)\n",
    "    a = a.astype(str)\n",
    "\n",
    "    return a\n",
    "\n",
    "# num_values= 9\n",
    "# board_values = list(range(num_values))\n",
    "\n",
    "# # get_board(board_values)\n",
    "# a.reshape((3,3))"
   ]
  },
  {
   "cell_type": "code",
   "execution_count": null,
   "metadata": {},
   "outputs": [],
   "source": [
    "# get_board_repr(get_board(board_values))"
   ]
  },
  {
   "cell_type": "code",
   "execution_count": 14,
   "metadata": {},
   "outputs": [],
   "source": [
    "num_values= 9\n",
    "board_values = list(range(num_values))\n"
   ]
  },
  {
   "cell_type": "code",
   "execution_count": 15,
   "metadata": {},
   "outputs": [
    {
     "name": "stdout",
     "output_type": "stream",
     "text": [
      "\n",
      "\n",
      "\n",
      "   0    1    2\n",
      "   X    4    5\n",
      "   6    7    8\n",
      "winner: None\n",
      "\n",
      "\n",
      "\n",
      "   0    1    2\n",
      "   X    X    5\n",
      "   6    7    8\n",
      "winner: None\n",
      "\n",
      "\n",
      "\n",
      "   0    1    2\n",
      "   X    X    X\n",
      "   6    7    8\n",
      "winner: None\n"
     ]
    },
    {
     "ename": "ValueError",
     "evalue": "invalid literal for int() with base 10: ''",
     "output_type": "error",
     "traceback": [
      "\u001b[1;31m---------------------------------------------------------------------------\u001b[0m",
      "\u001b[1;31mValueError\u001b[0m                                Traceback (most recent call last)",
      "Cell \u001b[1;32mIn[15], line 5\u001b[0m\n\u001b[0;32m      3\u001b[0m i\u001b[39m+\u001b[39m\u001b[39m=\u001b[39m\u001b[39m1\u001b[39m\n\u001b[0;32m      4\u001b[0m user_input \u001b[39m=\u001b[39m \u001b[39minput\u001b[39m()\n\u001b[1;32m----> 5\u001b[0m board_values \u001b[39m=\u001b[39m replace_with(board_values,\u001b[39mint\u001b[39;49m(user_input),\u001b[39m'\u001b[39m\u001b[39mX\u001b[39m\u001b[39m'\u001b[39m)\n\u001b[0;32m      6\u001b[0m board \u001b[39m=\u001b[39m get_board(board_values)\n\u001b[0;32m      7\u001b[0m board_str \u001b[39m=\u001b[39m   get_board_repr(board)\n",
      "\u001b[1;31mValueError\u001b[0m: invalid literal for int() with base 10: ''"
     ]
    }
   ],
   "source": [
    "\n",
    "i = 0\n",
    "while i <= num_values:\n",
    "    i+=1\n",
    "    user_input = input()\n",
    "    board_values = replace_with(board_values,int(user_input),'X')\n",
    "    board = get_board(board_values)\n",
    "    board_str =   get_board_repr(board)\n",
    "    winner = None\n",
    "    winner = get_winner(board)\n",
    "    print('\\n\\n')\n",
    "    print(board_str)\n",
    "    print(f'winner: {winner}')\n",
    "    if winner:\n",
    "        print(f'winner: {winner}')\n",
    "        break"
   ]
  },
  {
   "cell_type": "code",
   "execution_count": null,
   "metadata": {},
   "outputs": [],
   "source": []
  },
  {
   "cell_type": "code",
   "execution_count": 11,
   "metadata": {},
   "outputs": [],
   "source": [
    " file_path=  r\"D:\\Data\\OfficeWorkspace-20191016T044923Z-001\"\\\n",
    "                r\"\\OfficeWorkspace\\cricket\\invaders\\collected_data\\InvadersAB\\invaders_sno0.txt\","
   ]
  },
  {
   "cell_type": "code",
   "execution_count": 12,
   "metadata": {},
   "outputs": [
    {
     "data": {
      "text/plain": [
       "('D:\\\\Data\\\\OfficeWorkspace-20191016T044923Z-001\\\\OfficeWorkspace\\\\cricket\\\\invaders\\\\collected_data\\\\InvadersAB\\\\invaders_sno0.txt',)"
      ]
     },
     "execution_count": 12,
     "metadata": {},
     "output_type": "execute_result"
    }
   ],
   "source": [
    "file_path"
   ]
  },
  {
   "cell_type": "code",
   "execution_count": 13,
   "metadata": {},
   "outputs": [],
   "source": [
    "team_url= r\"D:\\Data\\OfficeWorkspace-20191016T044923Z-001\"\\\n",
    "r\"\\OfficeWorkspace\\cricket\\invaders\\collected_data\"\\\n",
    "r\"\\team_links.txt\","
   ]
  },
  {
   "cell_type": "code",
   "execution_count": 14,
   "metadata": {},
   "outputs": [
    {
     "data": {
      "text/plain": [
       "('D:\\\\Data\\\\OfficeWorkspace-20191016T044923Z-001\\\\OfficeWorkspace\\\\cricket\\\\invaders\\\\collected_data\\\\team_links.txt',)"
      ]
     },
     "execution_count": 14,
     "metadata": {},
     "output_type": "execute_result"
    }
   ],
   "source": [
    "team_url"
   ]
  },
  {
   "cell_type": "code",
   "execution_count": 24,
   "metadata": {},
   "outputs": [
    {
     "data": {
      "text/plain": [
       "['https://www.cricclubs.com/ScarboroughCA/viewTeam.do?teamId=1155&clubId=1835\\n',\n",
       " 'https://www.cricclubs.com/ScarboroughCA/viewTeam.do?teamId=1136&clubId=1835\\n',\n",
       " 'https://www.cricclubs.com/ScarboroughCA/viewTeam.do?teamId=989&clubId=1835\\n',\n",
       " 'https://www.cricclubs.com/ScarboroughCA/viewTeam.do?teamId=975&clubId=1835\\n',\n",
       " 'https://www.cricclubs.com/ScarboroughCA/viewTeam.do?teamId=936&clubId=1835\\n',\n",
       " 'https://www.cricclubs.com/ScarboroughCA/viewTeam.do?teamId=928&clubId=1835\\n',\n",
       " 'https://www.cricclubs.com/ScarboroughCA/viewTeam.do?teamId=852&clubId=1835\\n',\n",
       " 'https://www.cricclubs.com/ScarboroughCA/viewTeam.do?teamId=784&clubId=1835\\n',\n",
       " 'https://www.cricclubs.com/ScarboroughCA/viewTeam.do?teamId=780&clubId=1835\\n',\n",
       " 'https://www.cricclubs.com/ScarboroughCA/viewTeam.do?teamId=763&clubId=1835\\n',\n",
       " 'https://www.cricclubs.com/ScarboroughCA/viewTeam.do?teamId=709&clubId=1835\\n',\n",
       " 'https://www.cricclubs.com/ScarboroughCA/viewTeam.do?teamId=679&clubId=1835\\n',\n",
       " 'https://www.cricclubs.com/ScarboroughCA/viewTeam.do?teamId=656&clubId=1835\\n',\n",
       " 'https://www.cricclubs.com/ScarboroughCA/viewTeam.do?teamId=570&clubId=1835\\n',\n",
       " 'https://www.cricclubs.com/ScarboroughCA/viewTeam.do?teamId=524&clubId=1835\\n',\n",
       " 'https://www.cricclubs.com/ScarboroughCA/viewTeam.do?teamId=453&clubId=1835\\n',\n",
       " 'https://www.cricclubs.com/ScarboroughCA/viewTeam.do?teamId=403&clubId=1835\\n']"
      ]
     },
     "execution_count": 24,
     "metadata": {},
     "output_type": "execute_result"
    }
   ],
   "source": [
    "fp = r'D:\\\\Data\\\\OfficeWorkspace-20191016T044923Z-001\\\\OfficeWorkspace\\\\cricket\\\\invaders\\\\collected_data\\\\team_links.txt'\n",
    "\n",
    "with open(fp,'r') as file :\n",
    "    data = file.readlines()\n",
    "\n",
    "data"
   ]
  },
  {
   "cell_type": "code",
   "execution_count": 31,
   "metadata": {},
   "outputs": [
    {
     "ename": "IndentationError",
     "evalue": "unexpected indent (4270629816.py, line 3)",
     "output_type": "error",
     "traceback": [
      "\u001b[1;36m  Cell \u001b[1;32mIn[31], line 3\u001b[1;36m\u001b[0m\n\u001b[1;33m    f'txt file with links ex : {ex_msg_url}'\u001b[0m\n\u001b[1;37m    ^\u001b[0m\n\u001b[1;31mIndentationError\u001b[0m\u001b[1;31m:\u001b[0m unexpected indent\n"
     ]
    }
   ],
   "source": [
    "ex_msg_url = 10\n",
    "help=f'provide match full scorecard url'\\\n",
    "    f'txt file with links ex : {ex_msg_url}'\n",
    "\n",
    "help"
   ]
  },
  {
   "cell_type": "code",
   "execution_count": null,
   "metadata": {},
   "outputs": [],
   "source": []
  }
 ],
 "metadata": {
  "kernelspec": {
   "display_name": "env",
   "language": "python",
   "name": "python3"
  },
  "language_info": {
   "codemirror_mode": {
    "name": "ipython",
    "version": 3
   },
   "file_extension": ".py",
   "mimetype": "text/x-python",
   "name": "python",
   "nbconvert_exporter": "python",
   "pygments_lexer": "ipython3",
   "version": "3.10.5"
  },
  "orig_nbformat": 4,
  "vscode": {
   "interpreter": {
    "hash": "f4ae5037b302049da07df54bcc91d8ab506e9ef81582c47579a6aaf23d87a5ad"
   }
  }
 },
 "nbformat": 4,
 "nbformat_minor": 2
}
