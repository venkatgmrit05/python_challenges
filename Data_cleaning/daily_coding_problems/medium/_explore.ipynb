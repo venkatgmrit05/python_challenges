{
 "cells": [
  {
   "cell_type": "code",
   "execution_count": 24,
   "metadata": {},
   "outputs": [
    {
     "name": "stdout",
     "output_type": "stream",
     "text": [
      "\n",
      "\n",
      "abcdefg\n",
      "bc\n",
      "['a', 'defg']\n",
      "<b>bc</b>\n",
      "a<b>bc</b>defg\n",
      "\n",
      "\n",
      "abcdefg\n",
      "ef\n",
      "['abcd', 'g']\n",
      "<b>ef</b>\n",
      "abcd<b>ef</b>g\n"
     ]
    }
   ],
   "source": [
    "s = \"abcdefg\"\n",
    "lst = [\"bc\", \"ef\"]\n",
    "\n",
    "# s = \"abcdefg\"\n",
    "# lst = [\"bcd\", \"def\"]\n",
    "\n",
    "# s = \"abcdefg\"\n",
    "# lst = [\"bcde\", \"def\"]\n",
    "\n",
    "\n",
    "delim1 = '<b>'\n",
    "delim2 = '</b>'\n",
    "# delim1 = '_'\n",
    "# delim2 = '_'\n",
    "\n",
    "substr = []\n",
    "for i in lst:\n",
    "    print('\\n')\n",
    "    print(s)\n",
    "    print(i)\n",
    "    toks = s.split(i)\n",
    "    print(toks)\n",
    "    istr = f\"{delim1}{i}{delim2}\"\n",
    "    substr.append(istr)\n",
    "    print(istr)\n",
    "    ns = istr.join(toks)\n",
    "    print(ns)\n",
    "    # s = ns\n"
   ]
  },
  {
   "cell_type": "code",
   "execution_count": 21,
   "metadata": {},
   "outputs": [
    {
     "data": {
      "text/plain": [
       "('bfcd', 'c')"
      ]
     },
     "execution_count": 21,
     "metadata": {},
     "output_type": "execute_result"
    }
   ],
   "source": [
    "def combine_str(a,b,on_common = True):\n",
    "\n",
    "    aletters = [i for i in a]\n",
    "    bletters = [i for i in b]\n",
    "\n",
    "    longw = a\n",
    "    shortw = b\n",
    "    long_lst = aletters\n",
    "    short_lst = bletters\n",
    "    \n",
    "    common = [i for i in short_lst if i in long_lst]\n",
    "    common_substr = ''.join(common)\n",
    "    if common_substr:\n",
    "        combined_str = ''.join(longw).replace(common_substr,shortw)\n",
    "    else:\n",
    "        if on_common: # combine only if common substr exists\n",
    "            combined_str = None\n",
    "        else:\n",
    "            combined_str = a+b\n",
    "    return combined_str, common_substr\n",
    "\n",
    "\n",
    "\n",
    "combine_str('bcd','efgh',False)\n",
    "combine_str('bcd','fc',False)\n",
    "\n"
   ]
  },
  {
   "cell_type": "code",
   "execution_count": 20,
   "metadata": {},
   "outputs": [
    {
     "name": "stdout",
     "output_type": "stream",
     "text": [
      "ab\n",
      "ab\n",
      "ab\n",
      "\t ab\n",
      "c\n",
      "c\n",
      "\t cd\n",
      "cd\n",
      "\t cde\n",
      "\t de\n",
      "['ab', 'cd', 'cde', 'de']\n"
     ]
    }
   ],
   "source": [
    "lst = [\"ab\", \"c\", \"cd\", \"de\"]\n",
    "\n",
    "comb = []\n",
    "l2 = lst.copy()\n",
    "\n",
    "while len(lst) !=0:\n",
    "    a = lst.pop(0)\n",
    "    ret = a\n",
    "    for nitem in lst:\n",
    "        print(a)\n",
    "        cret,_ = combine_str(a,nitem)\n",
    "        if cret is not None:\n",
    "            ret = cret\n",
    "    comb.append(ret)\n",
    "    print('\\t',ret)\n",
    "print(comb)\n",
    "\n",
    "\n"
   ]
  },
  {
   "cell_type": "code",
   "execution_count": null,
   "metadata": {},
   "outputs": [],
   "source": [
    "def combine_list0(lst: list):\n",
    "\n",
    "    print(lst)\n",
    "    firstw = lst.pop(0)\n",
    "    print(firstw)\n",
    "    count = 0\n",
    "    for nextw in lst:\n",
    "        print(nextw)\n",
    "        count = +1\n",
    "        if count < 100:\n",
    "            ret, common_substr = combine_str(firstw, nextw)\n",
    "            print(ret,common_substr)\n",
    "            if common_substr is None:\n",
    "                lst = lst.insert(0, ret)\n",
    "                print(lst)\n",
    "        else:\n",
    "            break\n",
    "\n",
    "    print(lst)\n",
    "\n",
    "\n",
    "\n",
    "\n",
    "\n",
    "\n",
    "# lst = [\"ab\", 'bc' , 'cd', 'def' , 'gh', 'ij' , 'jk', 'klm']\n",
    "lst = [\"ab\", \"bc\" , \"cd\"]\n",
    "\n",
    "combine_list(lst)\n"
   ]
  },
  {
   "cell_type": "code",
   "execution_count": 5,
   "metadata": {},
   "outputs": [
    {
     "data": {
      "text/plain": [
       "[1, 'bc', 'cd', 'de']"
      ]
     },
     "execution_count": 5,
     "metadata": {},
     "output_type": "execute_result"
    }
   ],
   "source": [
    "l = [\"ab\", \"bc\", \"cd\", \"de\"]\n",
    "l.remove(\"ab\")\n",
    "l.insert(0,1)\n",
    "\n",
    "l\n"
   ]
  },
  {
   "cell_type": "code",
   "execution_count": null,
   "metadata": {},
   "outputs": [],
   "source": [
    "substr.sort(reverse=False)\n",
    "substr = [i.strip('_') for i in substr]\n",
    "\n",
    "substr\n",
    "\n",
    "\n"
   ]
  },
  {
   "cell_type": "code",
   "execution_count": null,
   "metadata": {},
   "outputs": [],
   "source": [
    "# org_list = substr.copy()\n",
    "# merged_list = []\n",
    "# for i,j in enumerate(substr):\n",
    "#     for item in org_list:\n",
    "#         if j \n",
    "\n"
   ]
  },
  {
   "cell_type": "code",
   "execution_count": null,
   "metadata": {},
   "outputs": [],
   "source": [
    "{'bcde'} - {'def'}"
   ]
  },
  {
   "cell_type": "code",
   "execution_count": null,
   "metadata": {},
   "outputs": [],
   "source": [
    "'def'.replace('e','x')"
   ]
  },
  {
   "cell_type": "code",
   "execution_count": null,
   "metadata": {},
   "outputs": [],
   "source": [
    "'sea'.__contains__('ser')"
   ]
  },
  {
   "cell_type": "code",
   "execution_count": null,
   "metadata": {},
   "outputs": [],
   "source": [
    "[i for i in 'sea']"
   ]
  },
  {
   "cell_type": "code",
   "execution_count": null,
   "metadata": {},
   "outputs": [],
   "source": [
    "'bcde' + 'def'"
   ]
  },
  {
   "cell_type": "code",
   "execution_count": null,
   "metadata": {},
   "outputs": [],
   "source": [
    "max('bcde','def')"
   ]
  },
  {
   "cell_type": "code",
   "execution_count": null,
   "metadata": {},
   "outputs": [],
   "source": []
  }
 ],
 "metadata": {
  "kernelspec": {
   "display_name": "Python 3.8.5 ('ml1')",
   "language": "python",
   "name": "python3"
  },
  "language_info": {
   "codemirror_mode": {
    "name": "ipython",
    "version": 3
   },
   "file_extension": ".py",
   "mimetype": "text/x-python",
   "name": "python",
   "nbconvert_exporter": "python",
   "pygments_lexer": "ipython3",
   "version": "3.8.5"
  },
  "orig_nbformat": 4,
  "vscode": {
   "interpreter": {
    "hash": "ee7441edeb48d1628deaad59442889437fad3bb9302f2072915643b91fb3ae99"
   }
  }
 },
 "nbformat": 4,
 "nbformat_minor": 2
}
