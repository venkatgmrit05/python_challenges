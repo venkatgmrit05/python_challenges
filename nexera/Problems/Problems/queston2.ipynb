{
 "cells": [
  {
   "cell_type": "code",
   "execution_count": 100,
   "metadata": {},
   "outputs": [],
   "source": [
    "import os\n",
    "import pandas as pd\n",
    "\n",
    "import plotly.express as px\n",
    "import matplotlib.pyplot as plt\n",
    "import seaborn as sns\n",
    "\n",
    "from collections import Counter"
   ]
  },
  {
   "cell_type": "code",
   "execution_count": 101,
   "metadata": {},
   "outputs": [
    {
     "data": {
      "text/plain": [
       "'d:\\\\Data\\\\OfficeWorkspace-20191016T044923Z-001\\\\OfficeWorkspace\\\\python_challenges\\\\nexera\\\\Problems\\\\Problems\\\\Question2.xlsx'"
      ]
     },
     "execution_count": 101,
     "metadata": {},
     "output_type": "execute_result"
    }
   ],
   "source": [
    "fp = os.path.join(os.getcwd(),'Question2.xlsx')\n",
    "fp"
   ]
  },
  {
   "cell_type": "code",
   "execution_count": 102,
   "metadata": {},
   "outputs": [],
   "source": [
    "df = pd.read_excel(fp)\\\n",
    "    .fillna(0)"
   ]
  },
  {
   "cell_type": "code",
   "execution_count": 103,
   "metadata": {},
   "outputs": [
    {
     "data": {
      "text/html": [
       "<div>\n",
       "<style scoped>\n",
       "    .dataframe tbody tr th:only-of-type {\n",
       "        vertical-align: middle;\n",
       "    }\n",
       "\n",
       "    .dataframe tbody tr th {\n",
       "        vertical-align: top;\n",
       "    }\n",
       "\n",
       "    .dataframe thead th {\n",
       "        text-align: right;\n",
       "    }\n",
       "</style>\n",
       "<table border=\"1\" class=\"dataframe\">\n",
       "  <thead>\n",
       "    <tr style=\"text-align: right;\">\n",
       "      <th></th>\n",
       "      <th>Material</th>\n",
       "      <th>Shape</th>\n",
       "      <th>Color</th>\n",
       "      <th>Radius</th>\n",
       "      <th>Height</th>\n",
       "      <th>Units (Imperial/Metric)</th>\n",
       "      <th>Pressure P1</th>\n",
       "      <th>Pressure P2</th>\n",
       "      <th>Piston movement</th>\n",
       "    </tr>\n",
       "  </thead>\n",
       "  <tbody>\n",
       "    <tr>\n",
       "      <th>0</th>\n",
       "      <td>STAINLESS STEEL</td>\n",
       "      <td>CONE</td>\n",
       "      <td>orange</td>\n",
       "      <td>0.027432</td>\n",
       "      <td>0.024384</td>\n",
       "      <td>I</td>\n",
       "      <td>95959</td>\n",
       "      <td>102836</td>\n",
       "      <td>1</td>\n",
       "    </tr>\n",
       "    <tr>\n",
       "      <th>1</th>\n",
       "      <td>ALUMINUM</td>\n",
       "      <td>SPHERE</td>\n",
       "      <td>blue</td>\n",
       "      <td>0.090000</td>\n",
       "      <td>0.000000</td>\n",
       "      <td>M</td>\n",
       "      <td>100849</td>\n",
       "      <td>105818</td>\n",
       "      <td>-1</td>\n",
       "    </tr>\n",
       "    <tr>\n",
       "      <th>2</th>\n",
       "      <td>POLYSTYRENE</td>\n",
       "      <td>CUBE</td>\n",
       "      <td>black</td>\n",
       "      <td>0.000000</td>\n",
       "      <td>0.003048</td>\n",
       "      <td>I</td>\n",
       "      <td>93328</td>\n",
       "      <td>106262</td>\n",
       "      <td>1</td>\n",
       "    </tr>\n",
       "    <tr>\n",
       "      <th>3</th>\n",
       "      <td>PAPER</td>\n",
       "      <td>CONE</td>\n",
       "      <td>red</td>\n",
       "      <td>0.040000</td>\n",
       "      <td>0.030000</td>\n",
       "      <td>M</td>\n",
       "      <td>92008</td>\n",
       "      <td>96850</td>\n",
       "      <td>1</td>\n",
       "    </tr>\n",
       "    <tr>\n",
       "      <th>4</th>\n",
       "      <td>POLYSTYRENE</td>\n",
       "      <td>CUBE</td>\n",
       "      <td>orange</td>\n",
       "      <td>0.000000</td>\n",
       "      <td>0.060000</td>\n",
       "      <td>M</td>\n",
       "      <td>100407</td>\n",
       "      <td>106656</td>\n",
       "      <td>1</td>\n",
       "    </tr>\n",
       "    <tr>\n",
       "      <th>...</th>\n",
       "      <td>...</td>\n",
       "      <td>...</td>\n",
       "      <td>...</td>\n",
       "      <td>...</td>\n",
       "      <td>...</td>\n",
       "      <td>...</td>\n",
       "      <td>...</td>\n",
       "      <td>...</td>\n",
       "      <td>...</td>\n",
       "    </tr>\n",
       "    <tr>\n",
       "      <th>95</th>\n",
       "      <td>STAINLESS STEEL</td>\n",
       "      <td>CYLINDER</td>\n",
       "      <td>orange</td>\n",
       "      <td>0.050000</td>\n",
       "      <td>0.100000</td>\n",
       "      <td>M</td>\n",
       "      <td>106221</td>\n",
       "      <td>104604</td>\n",
       "      <td>-1</td>\n",
       "    </tr>\n",
       "    <tr>\n",
       "      <th>96</th>\n",
       "      <td>ALUMINUM</td>\n",
       "      <td>CONE</td>\n",
       "      <td>white</td>\n",
       "      <td>0.080000</td>\n",
       "      <td>0.080000</td>\n",
       "      <td>M</td>\n",
       "      <td>107102</td>\n",
       "      <td>100344</td>\n",
       "      <td>-1</td>\n",
       "    </tr>\n",
       "    <tr>\n",
       "      <th>97</th>\n",
       "      <td>OAK</td>\n",
       "      <td>CYLINDER</td>\n",
       "      <td>orange</td>\n",
       "      <td>0.040000</td>\n",
       "      <td>0.020000</td>\n",
       "      <td>M</td>\n",
       "      <td>102819</td>\n",
       "      <td>107796</td>\n",
       "      <td>1</td>\n",
       "    </tr>\n",
       "    <tr>\n",
       "      <th>98</th>\n",
       "      <td>ALUMINUM</td>\n",
       "      <td>CONE</td>\n",
       "      <td>blue</td>\n",
       "      <td>0.060000</td>\n",
       "      <td>0.020000</td>\n",
       "      <td>M</td>\n",
       "      <td>104587</td>\n",
       "      <td>103270</td>\n",
       "      <td>-1</td>\n",
       "    </tr>\n",
       "    <tr>\n",
       "      <th>99</th>\n",
       "      <td>POLYSTYRENE</td>\n",
       "      <td>CUBE</td>\n",
       "      <td>white</td>\n",
       "      <td>0.000000</td>\n",
       "      <td>0.040000</td>\n",
       "      <td>M</td>\n",
       "      <td>97513</td>\n",
       "      <td>99863</td>\n",
       "      <td>1</td>\n",
       "    </tr>\n",
       "  </tbody>\n",
       "</table>\n",
       "<p>100 rows × 9 columns</p>\n",
       "</div>"
      ],
      "text/plain": [
       "           Material     Shape   Color    Radius    Height   \n",
       "0   STAINLESS STEEL      CONE  orange  0.027432  0.024384  \\\n",
       "1          ALUMINUM    SPHERE    blue  0.090000  0.000000   \n",
       "2       POLYSTYRENE      CUBE   black  0.000000  0.003048   \n",
       "3             PAPER      CONE     red  0.040000  0.030000   \n",
       "4       POLYSTYRENE      CUBE  orange  0.000000  0.060000   \n",
       "..              ...       ...     ...       ...       ...   \n",
       "95  STAINLESS STEEL  CYLINDER  orange  0.050000  0.100000   \n",
       "96         ALUMINUM      CONE   white  0.080000  0.080000   \n",
       "97              OAK  CYLINDER  orange  0.040000  0.020000   \n",
       "98         ALUMINUM      CONE    blue  0.060000  0.020000   \n",
       "99      POLYSTYRENE      CUBE   white  0.000000  0.040000   \n",
       "\n",
       "   Units (Imperial/Metric)  Pressure P1  Pressure P2  Piston movement  \n",
       "0                        I        95959       102836                1  \n",
       "1                        M       100849       105818               -1  \n",
       "2                        I        93328       106262                1  \n",
       "3                        M        92008        96850                1  \n",
       "4                        M       100407       106656                1  \n",
       "..                     ...          ...          ...              ...  \n",
       "95                       M       106221       104604               -1  \n",
       "96                       M       107102       100344               -1  \n",
       "97                       M       102819       107796                1  \n",
       "98                       M       104587       103270               -1  \n",
       "99                       M        97513        99863                1  \n",
       "\n",
       "[100 rows x 9 columns]"
      ]
     },
     "execution_count": 103,
     "metadata": {},
     "output_type": "execute_result"
    }
   ],
   "source": [
    "df=df[['Material', 'Shape', 'Color', 'Radius', 'Height',\n",
    "       'Units (Imperial/Metric)', 'Pressure P1', 'Pressure P2',\n",
    "       'Piston movement']]\n",
    "df = df.replace('Up',1)\n",
    "df = df.replace('Down',-1)\n",
    "df"
   ]
  },
  {
   "cell_type": "code",
   "execution_count": null,
   "metadata": {},
   "outputs": [],
   "source": []
  },
  {
   "cell_type": "code",
   "execution_count": 108,
   "metadata": {},
   "outputs": [
    {
     "data": {
      "application/vnd.plotly.v1+json": {
       "config": {
        "plotlyServerURL": "https://plot.ly"
       },
       "data": [
        {
         "hovertemplate": "x=%{x}<br>y=%{y}<extra></extra>",
         "legendgroup": "",
         "line": {
          "color": "#636efa",
          "dash": "solid"
         },
         "marker": {
          "symbol": "circle"
         },
         "mode": "lines",
         "name": "",
         "orientation": "v",
         "showlegend": false,
         "type": "scatter",
         "x": [
          0,
          0,
          0,
          0,
          0,
          0,
          0,
          0,
          0,
          0,
          0,
          0,
          0,
          0,
          0,
          0,
          0,
          0,
          0,
          0,
          0,
          0,
          0,
          0,
          0,
          0,
          0,
          0,
          0,
          0.003048,
          0.006096000000000001,
          0.006096000000000001,
          0.009144,
          0.009144,
          0.01,
          0.01,
          0.01,
          0.012192,
          0.01524,
          0.01524,
          0.01524,
          0.01524,
          0.018288,
          0.02,
          0.02,
          0.02,
          0.02,
          0.02,
          0.02,
          0.02,
          0.021336,
          0.024384,
          0.027432,
          0.027432,
          0.03,
          0.03,
          0.03,
          0.03,
          0.03,
          0.03048,
          0.04,
          0.04,
          0.04,
          0.04,
          0.04,
          0.04,
          0.05,
          0.05,
          0.05,
          0.05,
          0.05,
          0.06,
          0.06,
          0.06,
          0.06,
          0.06,
          0.06,
          0.06,
          0.06,
          0.07,
          0.07,
          0.07,
          0.07,
          0.07,
          0.08,
          0.08,
          0.08,
          0.08,
          0.08,
          0.09,
          0.09,
          0.09,
          0.09,
          0.09,
          0.09,
          0.09,
          0.09,
          0.1,
          0.1,
          0.1
         ],
         "xaxis": "x",
         "y": [
          -1,
          -1,
          -1,
          -1,
          1,
          -1,
          -1,
          -1,
          1,
          -1,
          1,
          -1,
          -1,
          1,
          1,
          -1,
          1,
          1,
          -1,
          1,
          -1,
          1,
          -1,
          -1,
          1,
          -1,
          1,
          -1,
          1,
          -1,
          1,
          -1,
          -1,
          -1,
          -1,
          1,
          1,
          1,
          1,
          -1,
          1,
          -1,
          -1,
          -1,
          1,
          1,
          -1,
          -1,
          -1,
          -1,
          -1,
          1,
          1,
          1,
          -1,
          -1,
          -1,
          1,
          1,
          -1,
          -1,
          1,
          -1,
          1,
          1,
          -1,
          -1,
          -1,
          -1,
          -1,
          1,
          -1,
          1,
          -1,
          -1,
          -1,
          -1,
          1,
          -1,
          -1,
          -1,
          -1,
          -1,
          -1,
          -1,
          -1,
          -1,
          -1,
          -1,
          -1,
          -1,
          -1,
          -1,
          -1,
          -1,
          -1,
          -1,
          -1,
          -1,
          -1
         ],
         "yaxis": "y"
        }
       ],
       "layout": {
        "legend": {
         "tracegroupgap": 0
        },
        "margin": {
         "t": 60
        },
        "template": {
         "data": {
          "bar": [
           {
            "error_x": {
             "color": "#2a3f5f"
            },
            "error_y": {
             "color": "#2a3f5f"
            },
            "marker": {
             "line": {
              "color": "#E5ECF6",
              "width": 0.5
             },
             "pattern": {
              "fillmode": "overlay",
              "size": 10,
              "solidity": 0.2
             }
            },
            "type": "bar"
           }
          ],
          "barpolar": [
           {
            "marker": {
             "line": {
              "color": "#E5ECF6",
              "width": 0.5
             },
             "pattern": {
              "fillmode": "overlay",
              "size": 10,
              "solidity": 0.2
             }
            },
            "type": "barpolar"
           }
          ],
          "carpet": [
           {
            "aaxis": {
             "endlinecolor": "#2a3f5f",
             "gridcolor": "white",
             "linecolor": "white",
             "minorgridcolor": "white",
             "startlinecolor": "#2a3f5f"
            },
            "baxis": {
             "endlinecolor": "#2a3f5f",
             "gridcolor": "white",
             "linecolor": "white",
             "minorgridcolor": "white",
             "startlinecolor": "#2a3f5f"
            },
            "type": "carpet"
           }
          ],
          "choropleth": [
           {
            "colorbar": {
             "outlinewidth": 0,
             "ticks": ""
            },
            "type": "choropleth"
           }
          ],
          "contour": [
           {
            "colorbar": {
             "outlinewidth": 0,
             "ticks": ""
            },
            "colorscale": [
             [
              0,
              "#0d0887"
             ],
             [
              0.1111111111111111,
              "#46039f"
             ],
             [
              0.2222222222222222,
              "#7201a8"
             ],
             [
              0.3333333333333333,
              "#9c179e"
             ],
             [
              0.4444444444444444,
              "#bd3786"
             ],
             [
              0.5555555555555556,
              "#d8576b"
             ],
             [
              0.6666666666666666,
              "#ed7953"
             ],
             [
              0.7777777777777778,
              "#fb9f3a"
             ],
             [
              0.8888888888888888,
              "#fdca26"
             ],
             [
              1,
              "#f0f921"
             ]
            ],
            "type": "contour"
           }
          ],
          "contourcarpet": [
           {
            "colorbar": {
             "outlinewidth": 0,
             "ticks": ""
            },
            "type": "contourcarpet"
           }
          ],
          "heatmap": [
           {
            "colorbar": {
             "outlinewidth": 0,
             "ticks": ""
            },
            "colorscale": [
             [
              0,
              "#0d0887"
             ],
             [
              0.1111111111111111,
              "#46039f"
             ],
             [
              0.2222222222222222,
              "#7201a8"
             ],
             [
              0.3333333333333333,
              "#9c179e"
             ],
             [
              0.4444444444444444,
              "#bd3786"
             ],
             [
              0.5555555555555556,
              "#d8576b"
             ],
             [
              0.6666666666666666,
              "#ed7953"
             ],
             [
              0.7777777777777778,
              "#fb9f3a"
             ],
             [
              0.8888888888888888,
              "#fdca26"
             ],
             [
              1,
              "#f0f921"
             ]
            ],
            "type": "heatmap"
           }
          ],
          "heatmapgl": [
           {
            "colorbar": {
             "outlinewidth": 0,
             "ticks": ""
            },
            "colorscale": [
             [
              0,
              "#0d0887"
             ],
             [
              0.1111111111111111,
              "#46039f"
             ],
             [
              0.2222222222222222,
              "#7201a8"
             ],
             [
              0.3333333333333333,
              "#9c179e"
             ],
             [
              0.4444444444444444,
              "#bd3786"
             ],
             [
              0.5555555555555556,
              "#d8576b"
             ],
             [
              0.6666666666666666,
              "#ed7953"
             ],
             [
              0.7777777777777778,
              "#fb9f3a"
             ],
             [
              0.8888888888888888,
              "#fdca26"
             ],
             [
              1,
              "#f0f921"
             ]
            ],
            "type": "heatmapgl"
           }
          ],
          "histogram": [
           {
            "marker": {
             "pattern": {
              "fillmode": "overlay",
              "size": 10,
              "solidity": 0.2
             }
            },
            "type": "histogram"
           }
          ],
          "histogram2d": [
           {
            "colorbar": {
             "outlinewidth": 0,
             "ticks": ""
            },
            "colorscale": [
             [
              0,
              "#0d0887"
             ],
             [
              0.1111111111111111,
              "#46039f"
             ],
             [
              0.2222222222222222,
              "#7201a8"
             ],
             [
              0.3333333333333333,
              "#9c179e"
             ],
             [
              0.4444444444444444,
              "#bd3786"
             ],
             [
              0.5555555555555556,
              "#d8576b"
             ],
             [
              0.6666666666666666,
              "#ed7953"
             ],
             [
              0.7777777777777778,
              "#fb9f3a"
             ],
             [
              0.8888888888888888,
              "#fdca26"
             ],
             [
              1,
              "#f0f921"
             ]
            ],
            "type": "histogram2d"
           }
          ],
          "histogram2dcontour": [
           {
            "colorbar": {
             "outlinewidth": 0,
             "ticks": ""
            },
            "colorscale": [
             [
              0,
              "#0d0887"
             ],
             [
              0.1111111111111111,
              "#46039f"
             ],
             [
              0.2222222222222222,
              "#7201a8"
             ],
             [
              0.3333333333333333,
              "#9c179e"
             ],
             [
              0.4444444444444444,
              "#bd3786"
             ],
             [
              0.5555555555555556,
              "#d8576b"
             ],
             [
              0.6666666666666666,
              "#ed7953"
             ],
             [
              0.7777777777777778,
              "#fb9f3a"
             ],
             [
              0.8888888888888888,
              "#fdca26"
             ],
             [
              1,
              "#f0f921"
             ]
            ],
            "type": "histogram2dcontour"
           }
          ],
          "mesh3d": [
           {
            "colorbar": {
             "outlinewidth": 0,
             "ticks": ""
            },
            "type": "mesh3d"
           }
          ],
          "parcoords": [
           {
            "line": {
             "colorbar": {
              "outlinewidth": 0,
              "ticks": ""
             }
            },
            "type": "parcoords"
           }
          ],
          "pie": [
           {
            "automargin": true,
            "type": "pie"
           }
          ],
          "scatter": [
           {
            "fillpattern": {
             "fillmode": "overlay",
             "size": 10,
             "solidity": 0.2
            },
            "type": "scatter"
           }
          ],
          "scatter3d": [
           {
            "line": {
             "colorbar": {
              "outlinewidth": 0,
              "ticks": ""
             }
            },
            "marker": {
             "colorbar": {
              "outlinewidth": 0,
              "ticks": ""
             }
            },
            "type": "scatter3d"
           }
          ],
          "scattercarpet": [
           {
            "marker": {
             "colorbar": {
              "outlinewidth": 0,
              "ticks": ""
             }
            },
            "type": "scattercarpet"
           }
          ],
          "scattergeo": [
           {
            "marker": {
             "colorbar": {
              "outlinewidth": 0,
              "ticks": ""
             }
            },
            "type": "scattergeo"
           }
          ],
          "scattergl": [
           {
            "marker": {
             "colorbar": {
              "outlinewidth": 0,
              "ticks": ""
             }
            },
            "type": "scattergl"
           }
          ],
          "scattermapbox": [
           {
            "marker": {
             "colorbar": {
              "outlinewidth": 0,
              "ticks": ""
             }
            },
            "type": "scattermapbox"
           }
          ],
          "scatterpolar": [
           {
            "marker": {
             "colorbar": {
              "outlinewidth": 0,
              "ticks": ""
             }
            },
            "type": "scatterpolar"
           }
          ],
          "scatterpolargl": [
           {
            "marker": {
             "colorbar": {
              "outlinewidth": 0,
              "ticks": ""
             }
            },
            "type": "scatterpolargl"
           }
          ],
          "scatterternary": [
           {
            "marker": {
             "colorbar": {
              "outlinewidth": 0,
              "ticks": ""
             }
            },
            "type": "scatterternary"
           }
          ],
          "surface": [
           {
            "colorbar": {
             "outlinewidth": 0,
             "ticks": ""
            },
            "colorscale": [
             [
              0,
              "#0d0887"
             ],
             [
              0.1111111111111111,
              "#46039f"
             ],
             [
              0.2222222222222222,
              "#7201a8"
             ],
             [
              0.3333333333333333,
              "#9c179e"
             ],
             [
              0.4444444444444444,
              "#bd3786"
             ],
             [
              0.5555555555555556,
              "#d8576b"
             ],
             [
              0.6666666666666666,
              "#ed7953"
             ],
             [
              0.7777777777777778,
              "#fb9f3a"
             ],
             [
              0.8888888888888888,
              "#fdca26"
             ],
             [
              1,
              "#f0f921"
             ]
            ],
            "type": "surface"
           }
          ],
          "table": [
           {
            "cells": {
             "fill": {
              "color": "#EBF0F8"
             },
             "line": {
              "color": "white"
             }
            },
            "header": {
             "fill": {
              "color": "#C8D4E3"
             },
             "line": {
              "color": "white"
             }
            },
            "type": "table"
           }
          ]
         },
         "layout": {
          "annotationdefaults": {
           "arrowcolor": "#2a3f5f",
           "arrowhead": 0,
           "arrowwidth": 1
          },
          "autotypenumbers": "strict",
          "coloraxis": {
           "colorbar": {
            "outlinewidth": 0,
            "ticks": ""
           }
          },
          "colorscale": {
           "diverging": [
            [
             0,
             "#8e0152"
            ],
            [
             0.1,
             "#c51b7d"
            ],
            [
             0.2,
             "#de77ae"
            ],
            [
             0.3,
             "#f1b6da"
            ],
            [
             0.4,
             "#fde0ef"
            ],
            [
             0.5,
             "#f7f7f7"
            ],
            [
             0.6,
             "#e6f5d0"
            ],
            [
             0.7,
             "#b8e186"
            ],
            [
             0.8,
             "#7fbc41"
            ],
            [
             0.9,
             "#4d9221"
            ],
            [
             1,
             "#276419"
            ]
           ],
           "sequential": [
            [
             0,
             "#0d0887"
            ],
            [
             0.1111111111111111,
             "#46039f"
            ],
            [
             0.2222222222222222,
             "#7201a8"
            ],
            [
             0.3333333333333333,
             "#9c179e"
            ],
            [
             0.4444444444444444,
             "#bd3786"
            ],
            [
             0.5555555555555556,
             "#d8576b"
            ],
            [
             0.6666666666666666,
             "#ed7953"
            ],
            [
             0.7777777777777778,
             "#fb9f3a"
            ],
            [
             0.8888888888888888,
             "#fdca26"
            ],
            [
             1,
             "#f0f921"
            ]
           ],
           "sequentialminus": [
            [
             0,
             "#0d0887"
            ],
            [
             0.1111111111111111,
             "#46039f"
            ],
            [
             0.2222222222222222,
             "#7201a8"
            ],
            [
             0.3333333333333333,
             "#9c179e"
            ],
            [
             0.4444444444444444,
             "#bd3786"
            ],
            [
             0.5555555555555556,
             "#d8576b"
            ],
            [
             0.6666666666666666,
             "#ed7953"
            ],
            [
             0.7777777777777778,
             "#fb9f3a"
            ],
            [
             0.8888888888888888,
             "#fdca26"
            ],
            [
             1,
             "#f0f921"
            ]
           ]
          },
          "colorway": [
           "#636efa",
           "#EF553B",
           "#00cc96",
           "#ab63fa",
           "#FFA15A",
           "#19d3f3",
           "#FF6692",
           "#B6E880",
           "#FF97FF",
           "#FECB52"
          ],
          "font": {
           "color": "#2a3f5f"
          },
          "geo": {
           "bgcolor": "white",
           "lakecolor": "white",
           "landcolor": "#E5ECF6",
           "showlakes": true,
           "showland": true,
           "subunitcolor": "white"
          },
          "hoverlabel": {
           "align": "left"
          },
          "hovermode": "closest",
          "mapbox": {
           "style": "light"
          },
          "paper_bgcolor": "white",
          "plot_bgcolor": "#E5ECF6",
          "polar": {
           "angularaxis": {
            "gridcolor": "white",
            "linecolor": "white",
            "ticks": ""
           },
           "bgcolor": "#E5ECF6",
           "radialaxis": {
            "gridcolor": "white",
            "linecolor": "white",
            "ticks": ""
           }
          },
          "scene": {
           "xaxis": {
            "backgroundcolor": "#E5ECF6",
            "gridcolor": "white",
            "gridwidth": 2,
            "linecolor": "white",
            "showbackground": true,
            "ticks": "",
            "zerolinecolor": "white"
           },
           "yaxis": {
            "backgroundcolor": "#E5ECF6",
            "gridcolor": "white",
            "gridwidth": 2,
            "linecolor": "white",
            "showbackground": true,
            "ticks": "",
            "zerolinecolor": "white"
           },
           "zaxis": {
            "backgroundcolor": "#E5ECF6",
            "gridcolor": "white",
            "gridwidth": 2,
            "linecolor": "white",
            "showbackground": true,
            "ticks": "",
            "zerolinecolor": "white"
           }
          },
          "shapedefaults": {
           "line": {
            "color": "#2a3f5f"
           }
          },
          "ternary": {
           "aaxis": {
            "gridcolor": "white",
            "linecolor": "white",
            "ticks": ""
           },
           "baxis": {
            "gridcolor": "white",
            "linecolor": "white",
            "ticks": ""
           },
           "bgcolor": "#E5ECF6",
           "caxis": {
            "gridcolor": "white",
            "linecolor": "white",
            "ticks": ""
           }
          },
          "title": {
           "x": 0.05
          },
          "xaxis": {
           "automargin": true,
           "gridcolor": "white",
           "linecolor": "white",
           "ticks": "",
           "title": {
            "standoff": 15
           },
           "zerolinecolor": "white",
           "zerolinewidth": 2
          },
          "yaxis": {
           "automargin": true,
           "gridcolor": "white",
           "linecolor": "white",
           "ticks": "",
           "title": {
            "standoff": 15
           },
           "zerolinecolor": "white",
           "zerolinewidth": 2
          }
         }
        },
        "xaxis": {
         "anchor": "y",
         "domain": [
          0,
          1
         ],
         "title": {
          "text": "x"
         }
        },
        "yaxis": {
         "anchor": "x",
         "domain": [
          0,
          1
         ],
         "title": {
          "text": "y"
         }
        }
       }
      }
     },
     "metadata": {},
     "output_type": "display_data"
    }
   ],
   "source": [
    "df2 = df2.sort_values(by='Radius')\n",
    "df2\n",
    "fig = px.line(x=df2['Radius'],y=df2['Piston movement'])\n",
    "fig.show()"
   ]
  },
  {
   "cell_type": "code",
   "execution_count": 109,
   "metadata": {},
   "outputs": [
    {
     "name": "stdout",
     "output_type": "stream",
     "text": [
      "Radius           Radius             1.000000\n",
      "                 Height             0.061160\n",
      "                 Pressure P1       -0.090382\n",
      "                 Pressure P2        0.041975\n",
      "                 Piston movement   -0.326952\n",
      "Height           Radius             0.061160\n",
      "                 Height             1.000000\n",
      "                 Pressure P1        0.076427\n",
      "                 Pressure P2        0.056051\n",
      "                 Piston movement   -0.217908\n",
      "Pressure P1      Radius            -0.090382\n",
      "                 Height             0.076427\n",
      "                 Pressure P1        1.000000\n",
      "                 Pressure P2        0.170224\n",
      "                 Piston movement   -0.405633\n",
      "Pressure P2      Radius             0.041975\n",
      "                 Height             0.056051\n",
      "                 Pressure P1        0.170224\n",
      "                 Pressure P2        1.000000\n",
      "                 Piston movement    0.317644\n",
      "Piston movement  Radius            -0.326952\n",
      "                 Height            -0.217908\n",
      "                 Pressure P1       -0.405633\n",
      "                 Pressure P2        0.317644\n",
      "                 Piston movement    1.000000\n",
      "dtype: float64\n"
     ]
    },
    {
     "data": {
      "image/png": "[encoded data removed]",
      "text/plain": [
       "<Figure size 480x480 with 1 Axes>"
      ]
     },
     "metadata": {},
     "output_type": "display_data"
    }
   ],
   "source": [
    "\n",
    "\n",
    "df3=df[[ 'Radius', 'Height','Pressure P1', 'Pressure P2',\n",
    "       'Piston movement']]\n",
    "corr = plt.matshow(df3.corr())\n",
    "\n",
    "corr_pairs = df3.corr().unstack()\n",
    "print(corr_pairs)"
   ]
  },
  {
   "cell_type": "code",
   "execution_count": 110,
   "metadata": {},
   "outputs": [],
   "source": [
    "materials = ['STAINLESS STEEL', 'ALUMINUM', 'POLYSTYRENE', 'PAPER', 'OAK']\n",
    "shapes = ['CONE', 'SPHERE', 'CUBE', 'CYLINDER']\n",
    "colours = ['orange', 'blue', 'black', 'red', 'white', 'yellow']\n",
    "df0 = df.copy()"
   ]
  },
  {
   "cell_type": "code",
   "execution_count": 111,
   "metadata": {},
   "outputs": [],
   "source": [
    "def ismatch(x,str_):\n",
    "    return 1 if x==str_ else 0"
   ]
  },
  {
   "cell_type": "code",
   "execution_count": 112,
   "metadata": {},
   "outputs": [],
   "source": [
    "# df0['SS'] = df['Material'].apply(ismatch,args={'STAINLESS STEEL'})\n",
    "# df0['ALUMINUM'] = df['Material'].apply(ismatch,args={'ALUMINUM'})\n",
    "# df0['POLYSTYRENE'] = df['Material'].apply(ismatch,args={'POLYSTYRENE'})\n",
    "# df0['PAPER'] = df['Material'].apply(ismatch,args={'PAPER'})\n",
    "# df0['OAK'] = df['Material'].apply(ismatch,args={'OAK'})\n",
    "# df0['CONE'] = df['Shape'].apply(ismatch,args={'CONE'})\n",
    "# df0['SPHERE'] = df['Shape'].apply(ismatch,args={'SPHERE'})\n",
    "# df0['CUBE'] = df['Shape'].apply(ismatch,args={'CUBE'})\n",
    "# df0['CYLINDER'] = df['Shape'].apply(ismatch,args={'CYLINDER'})\n",
    "# df0['IMP'] = df['Units (Imperial/Metric)'].apply(ismatch,args={'I'})\n",
    "# df0['MET'] = df['Units (Imperial/Metric)'].apply(ismatch,args={'M'})\n",
    "\n",
    "\n",
    "\n",
    "df0['IMP'] = df['Units (Imperial/Metric)'].apply(ismatch,args={'I'})\n",
    "df0['MET'] = df['Units (Imperial/Metric)'].apply(ismatch,args={'M'})\n",
    "for s in materials:\n",
    "    s = s.upper()\n",
    "    df0[s] = df0['Material'].apply(ismatch,args={s})\n",
    "\n",
    "\n",
    "\n",
    "for s in shapes:\n",
    "    s = s.upper()\n",
    "    df0[s] = df0['Shape'].apply(ismatch,args={s})\n",
    "\n",
    "for col in colours:\n",
    "    # col = col\n",
    "    df0[col] = df0['Color'].apply(ismatch,args={col})\n",
    "\n",
    "\n"
   ]
  },
  {
   "cell_type": "code",
   "execution_count": 113,
   "metadata": {},
   "outputs": [
    {
     "data": {
      "text/plain": [
       "Index(['Material', 'Shape', 'Color', 'Radius', 'Height',\n",
       "       'Units (Imperial/Metric)', 'Pressure P1', 'Pressure P2',\n",
       "       'Piston movement', 'IMP', 'MET', 'STAINLESS STEEL', 'ALUMINUM',\n",
       "       'POLYSTYRENE', 'PAPER', 'OAK', 'CONE', 'SPHERE', 'CUBE', 'CYLINDER',\n",
       "       'orange', 'blue', 'black', 'red', 'white', 'yellow'],\n",
       "      dtype='object')"
      ]
     },
     "execution_count": 113,
     "metadata": {},
     "output_type": "execute_result"
    }
   ],
   "source": [
    "df0.columns"
   ]
  },
  {
   "cell_type": "code",
   "execution_count": 114,
   "metadata": {},
   "outputs": [
    {
     "data": {
      "text/html": [
       "<div>\n",
       "<style scoped>\n",
       "    .dataframe tbody tr th:only-of-type {\n",
       "        vertical-align: middle;\n",
       "    }\n",
       "\n",
       "    .dataframe tbody tr th {\n",
       "        vertical-align: top;\n",
       "    }\n",
       "\n",
       "    .dataframe thead th {\n",
       "        text-align: right;\n",
       "    }\n",
       "</style>\n",
       "<table border=\"1\" class=\"dataframe\">\n",
       "  <thead>\n",
       "    <tr style=\"text-align: right;\">\n",
       "      <th></th>\n",
       "      <th>Material</th>\n",
       "      <th>Shape</th>\n",
       "      <th>Color</th>\n",
       "      <th>Radius</th>\n",
       "      <th>Height</th>\n",
       "      <th>Units (Imperial/Metric)</th>\n",
       "      <th>Pressure P1</th>\n",
       "      <th>Pressure P2</th>\n",
       "      <th>Piston movement</th>\n",
       "      <th>IMP</th>\n",
       "      <th>...</th>\n",
       "      <th>CONE</th>\n",
       "      <th>SPHERE</th>\n",
       "      <th>CUBE</th>\n",
       "      <th>CYLINDER</th>\n",
       "      <th>orange</th>\n",
       "      <th>blue</th>\n",
       "      <th>black</th>\n",
       "      <th>red</th>\n",
       "      <th>white</th>\n",
       "      <th>yellow</th>\n",
       "    </tr>\n",
       "  </thead>\n",
       "  <tbody>\n",
       "    <tr>\n",
       "      <th>0</th>\n",
       "      <td>STAINLESS STEEL</td>\n",
       "      <td>CONE</td>\n",
       "      <td>orange</td>\n",
       "      <td>0.027432</td>\n",
       "      <td>0.024384</td>\n",
       "      <td>I</td>\n",
       "      <td>95959</td>\n",
       "      <td>102836</td>\n",
       "      <td>1</td>\n",
       "      <td>1</td>\n",
       "      <td>...</td>\n",
       "      <td>1</td>\n",
       "      <td>0</td>\n",
       "      <td>0</td>\n",
       "      <td>0</td>\n",
       "      <td>1</td>\n",
       "      <td>0</td>\n",
       "      <td>0</td>\n",
       "      <td>0</td>\n",
       "      <td>0</td>\n",
       "      <td>0</td>\n",
       "    </tr>\n",
       "    <tr>\n",
       "      <th>1</th>\n",
       "      <td>ALUMINUM</td>\n",
       "      <td>SPHERE</td>\n",
       "      <td>blue</td>\n",
       "      <td>0.090000</td>\n",
       "      <td>0.000000</td>\n",
       "      <td>M</td>\n",
       "      <td>100849</td>\n",
       "      <td>105818</td>\n",
       "      <td>-1</td>\n",
       "      <td>0</td>\n",
       "      <td>...</td>\n",
       "      <td>0</td>\n",
       "      <td>1</td>\n",
       "      <td>0</td>\n",
       "      <td>0</td>\n",
       "      <td>0</td>\n",
       "      <td>1</td>\n",
       "      <td>0</td>\n",
       "      <td>0</td>\n",
       "      <td>0</td>\n",
       "      <td>0</td>\n",
       "    </tr>\n",
       "    <tr>\n",
       "      <th>2</th>\n",
       "      <td>POLYSTYRENE</td>\n",
       "      <td>CUBE</td>\n",
       "      <td>black</td>\n",
       "      <td>0.000000</td>\n",
       "      <td>0.003048</td>\n",
       "      <td>I</td>\n",
       "      <td>93328</td>\n",
       "      <td>106262</td>\n",
       "      <td>1</td>\n",
       "      <td>1</td>\n",
       "      <td>...</td>\n",
       "      <td>0</td>\n",
       "      <td>0</td>\n",
       "      <td>1</td>\n",
       "      <td>0</td>\n",
       "      <td>0</td>\n",
       "      <td>0</td>\n",
       "      <td>1</td>\n",
       "      <td>0</td>\n",
       "      <td>0</td>\n",
       "      <td>0</td>\n",
       "    </tr>\n",
       "    <tr>\n",
       "      <th>3</th>\n",
       "      <td>PAPER</td>\n",
       "      <td>CONE</td>\n",
       "      <td>red</td>\n",
       "      <td>0.040000</td>\n",
       "      <td>0.030000</td>\n",
       "      <td>M</td>\n",
       "      <td>92008</td>\n",
       "      <td>96850</td>\n",
       "      <td>1</td>\n",
       "      <td>0</td>\n",
       "      <td>...</td>\n",
       "      <td>1</td>\n",
       "      <td>0</td>\n",
       "      <td>0</td>\n",
       "      <td>0</td>\n",
       "      <td>0</td>\n",
       "      <td>0</td>\n",
       "      <td>0</td>\n",
       "      <td>1</td>\n",
       "      <td>0</td>\n",
       "      <td>0</td>\n",
       "    </tr>\n",
       "    <tr>\n",
       "      <th>4</th>\n",
       "      <td>POLYSTYRENE</td>\n",
       "      <td>CUBE</td>\n",
       "      <td>orange</td>\n",
       "      <td>0.000000</td>\n",
       "      <td>0.060000</td>\n",
       "      <td>M</td>\n",
       "      <td>100407</td>\n",
       "      <td>106656</td>\n",
       "      <td>1</td>\n",
       "      <td>0</td>\n",
       "      <td>...</td>\n",
       "      <td>0</td>\n",
       "      <td>0</td>\n",
       "      <td>1</td>\n",
       "      <td>0</td>\n",
       "      <td>1</td>\n",
       "      <td>0</td>\n",
       "      <td>0</td>\n",
       "      <td>0</td>\n",
       "      <td>0</td>\n",
       "      <td>0</td>\n",
       "    </tr>\n",
       "    <tr>\n",
       "      <th>...</th>\n",
       "      <td>...</td>\n",
       "      <td>...</td>\n",
       "      <td>...</td>\n",
       "      <td>...</td>\n",
       "      <td>...</td>\n",
       "      <td>...</td>\n",
       "      <td>...</td>\n",
       "      <td>...</td>\n",
       "      <td>...</td>\n",
       "      <td>...</td>\n",
       "      <td>...</td>\n",
       "      <td>...</td>\n",
       "      <td>...</td>\n",
       "      <td>...</td>\n",
       "      <td>...</td>\n",
       "      <td>...</td>\n",
       "      <td>...</td>\n",
       "      <td>...</td>\n",
       "      <td>...</td>\n",
       "      <td>...</td>\n",
       "      <td>...</td>\n",
       "    </tr>\n",
       "    <tr>\n",
       "      <th>95</th>\n",
       "      <td>STAINLESS STEEL</td>\n",
       "      <td>CYLINDER</td>\n",
       "      <td>orange</td>\n",
       "      <td>0.050000</td>\n",
       "      <td>0.100000</td>\n",
       "      <td>M</td>\n",
       "      <td>106221</td>\n",
       "      <td>104604</td>\n",
       "      <td>-1</td>\n",
       "      <td>0</td>\n",
       "      <td>...</td>\n",
       "      <td>0</td>\n",
       "      <td>0</td>\n",
       "      <td>0</td>\n",
       "      <td>1</td>\n",
       "      <td>1</td>\n",
       "      <td>0</td>\n",
       "      <td>0</td>\n",
       "      <td>0</td>\n",
       "      <td>0</td>\n",
       "      <td>0</td>\n",
       "    </tr>\n",
       "    <tr>\n",
       "      <th>96</th>\n",
       "      <td>ALUMINUM</td>\n",
       "      <td>CONE</td>\n",
       "      <td>white</td>\n",
       "      <td>0.080000</td>\n",
       "      <td>0.080000</td>\n",
       "      <td>M</td>\n",
       "      <td>107102</td>\n",
       "      <td>100344</td>\n",
       "      <td>-1</td>\n",
       "      <td>0</td>\n",
       "      <td>...</td>\n",
       "      <td>1</td>\n",
       "      <td>0</td>\n",
       "      <td>0</td>\n",
       "      <td>0</td>\n",
       "      <td>0</td>\n",
       "      <td>0</td>\n",
       "      <td>0</td>\n",
       "      <td>0</td>\n",
       "      <td>1</td>\n",
       "      <td>0</td>\n",
       "    </tr>\n",
       "    <tr>\n",
       "      <th>97</th>\n",
       "      <td>OAK</td>\n",
       "      <td>CYLINDER</td>\n",
       "      <td>orange</td>\n",
       "      <td>0.040000</td>\n",
       "      <td>0.020000</td>\n",
       "      <td>M</td>\n",
       "      <td>102819</td>\n",
       "      <td>107796</td>\n",
       "      <td>1</td>\n",
       "      <td>0</td>\n",
       "      <td>...</td>\n",
       "      <td>0</td>\n",
       "      <td>0</td>\n",
       "      <td>0</td>\n",
       "      <td>1</td>\n",
       "      <td>1</td>\n",
       "      <td>0</td>\n",
       "      <td>0</td>\n",
       "      <td>0</td>\n",
       "      <td>0</td>\n",
       "      <td>0</td>\n",
       "    </tr>\n",
       "    <tr>\n",
       "      <th>98</th>\n",
       "      <td>ALUMINUM</td>\n",
       "      <td>CONE</td>\n",
       "      <td>blue</td>\n",
       "      <td>0.060000</td>\n",
       "      <td>0.020000</td>\n",
       "      <td>M</td>\n",
       "      <td>104587</td>\n",
       "      <td>103270</td>\n",
       "      <td>-1</td>\n",
       "      <td>0</td>\n",
       "      <td>...</td>\n",
       "      <td>1</td>\n",
       "      <td>0</td>\n",
       "      <td>0</td>\n",
       "      <td>0</td>\n",
       "      <td>0</td>\n",
       "      <td>1</td>\n",
       "      <td>0</td>\n",
       "      <td>0</td>\n",
       "      <td>0</td>\n",
       "      <td>0</td>\n",
       "    </tr>\n",
       "    <tr>\n",
       "      <th>99</th>\n",
       "      <td>POLYSTYRENE</td>\n",
       "      <td>CUBE</td>\n",
       "      <td>white</td>\n",
       "      <td>0.000000</td>\n",
       "      <td>0.040000</td>\n",
       "      <td>M</td>\n",
       "      <td>97513</td>\n",
       "      <td>99863</td>\n",
       "      <td>1</td>\n",
       "      <td>0</td>\n",
       "      <td>...</td>\n",
       "      <td>0</td>\n",
       "      <td>0</td>\n",
       "      <td>1</td>\n",
       "      <td>0</td>\n",
       "      <td>0</td>\n",
       "      <td>0</td>\n",
       "      <td>0</td>\n",
       "      <td>0</td>\n",
       "      <td>1</td>\n",
       "      <td>0</td>\n",
       "    </tr>\n",
       "  </tbody>\n",
       "</table>\n",
       "<p>100 rows × 26 columns</p>\n",
       "</div>"
      ],
      "text/plain": [
       "           Material     Shape   Color    Radius    Height   \n",
       "0   STAINLESS STEEL      CONE  orange  0.027432  0.024384  \\\n",
       "1          ALUMINUM    SPHERE    blue  0.090000  0.000000   \n",
       "2       POLYSTYRENE      CUBE   black  0.000000  0.003048   \n",
       "3             PAPER      CONE     red  0.040000  0.030000   \n",
       "4       POLYSTYRENE      CUBE  orange  0.000000  0.060000   \n",
       "..              ...       ...     ...       ...       ...   \n",
       "95  STAINLESS STEEL  CYLINDER  orange  0.050000  0.100000   \n",
       "96         ALUMINUM      CONE   white  0.080000  0.080000   \n",
       "97              OAK  CYLINDER  orange  0.040000  0.020000   \n",
       "98         ALUMINUM      CONE    blue  0.060000  0.020000   \n",
       "99      POLYSTYRENE      CUBE   white  0.000000  0.040000   \n",
       "\n",
       "   Units (Imperial/Metric)  Pressure P1  Pressure P2  Piston movement  IMP   \n",
       "0                        I        95959       102836                1    1  \\\n",
       "1                        M       100849       105818               -1    0   \n",
       "2                        I        93328       106262                1    1   \n",
       "3                        M        92008        96850                1    0   \n",
       "4                        M       100407       106656                1    0   \n",
       "..                     ...          ...          ...              ...  ...   \n",
       "95                       M       106221       104604               -1    0   \n",
       "96                       M       107102       100344               -1    0   \n",
       "97                       M       102819       107796                1    0   \n",
       "98                       M       104587       103270               -1    0   \n",
       "99                       M        97513        99863                1    0   \n",
       "\n",
       "    ...  CONE  SPHERE  CUBE  CYLINDER  orange  blue  black  red  white  yellow  \n",
       "0   ...     1       0     0         0       1     0      0    0      0       0  \n",
       "1   ...     0       1     0         0       0     1      0    0      0       0  \n",
       "2   ...     0       0     1         0       0     0      1    0      0       0  \n",
       "3   ...     1       0     0         0       0     0      0    1      0       0  \n",
       "4   ...     0       0     1         0       1     0      0    0      0       0  \n",
       "..  ...   ...     ...   ...       ...     ...   ...    ...  ...    ...     ...  \n",
       "95  ...     0       0     0         1       1     0      0    0      0       0  \n",
       "96  ...     1       0     0         0       0     0      0    0      1       0  \n",
       "97  ...     0       0     0         1       1     0      0    0      0       0  \n",
       "98  ...     1       0     0         0       0     1      0    0      0       0  \n",
       "99  ...     0       0     1         0       0     0      0    0      1       0  \n",
       "\n",
       "[100 rows x 26 columns]"
      ]
     },
     "execution_count": 114,
     "metadata": {},
     "output_type": "execute_result"
    }
   ],
   "source": [
    "df00 = df0[['Radius', 'Height','Pressure P1', 'Pressure P2',\n",
    "       'Piston movement','ALUMINUM', 'POLYSTYRENE', 'PAPER', 'OAK',\n",
    "       'CONE', 'SPHERE', 'CUBE', 'CYLINDER', 'IMP', 'MET', 'orange', 'blue',\n",
    "       'black', 'red', 'white', 'yellow', 'STAINLESS STEEL']]\n",
    "df0"
   ]
  },
  {
   "cell_type": "code",
   "execution_count": 120,
   "metadata": {},
   "outputs": [
    {
     "name": "stdout",
     "output_type": "stream",
     "text": [
      "Radius           Radius             1.000000\n",
      "                 Height             0.061160\n",
      "                 Pressure P1       -0.090382\n",
      "                 Pressure P2        0.041975\n",
      "                 Piston movement   -0.326952\n",
      "                                      ...   \n",
      "STAINLESS STEEL  black              0.034080\n",
      "                 red               -0.152783\n",
      "                 white             -0.166667\n",
      "                 yellow            -0.005809\n",
      "                 STAINLESS STEEL    1.000000\n",
      "Length: 484, dtype: float64\n"
     ]
    },
    {
     "data": {
      "image/png": "[encoded data removed]",
      "text/plain": [
       "<Figure size 480x480 with 1 Axes>"
      ]
     },
     "metadata": {},
     "output_type": "display_data"
    }
   ],
   "source": [
    "corr = plt.matshow(df00.corr())\n",
    "corr_pairs = df00.corr().unstack()"
   ]
  },
  {
   "cell_type": "code",
   "execution_count": 119,
   "metadata": {},
   "outputs": [
    {
     "data": {
      "text/plain": [
       "Radius           Radius             1.000000\n",
       "                 Height             0.061160\n",
       "                 Pressure P1       -0.090382\n",
       "                 Pressure P2        0.041975\n",
       "                 Piston movement   -0.326952\n",
       "                                      ...   \n",
       "STAINLESS STEEL  black              0.034080\n",
       "                 red               -0.152783\n",
       "                 white             -0.166667\n",
       "                 yellow            -0.005809\n",
       "                 STAINLESS STEEL    1.000000\n",
       "Length: 484, dtype: float64"
      ]
     },
     "execution_count": 119,
     "metadata": {},
     "output_type": "execute_result"
    }
   ],
   "source": [
    "corr_pairs"
   ]
  },
  {
   "cell_type": "code",
   "execution_count": 121,
   "metadata": {},
   "outputs": [],
   "source": [
    "corr_pairs['pairs']=corr_pairs.index"
   ]
  },
  {
   "cell_type": "code",
   "execution_count": 124,
   "metadata": {},
   "outputs": [],
   "source": [
    "dfc = pd.DataFrame(corr_pairs)"
   ]
  },
  {
   "cell_type": "code",
   "execution_count": 125,
   "metadata": {},
   "outputs": [
    {
     "data": {
      "text/html": [
       "<div>\n",
       "<style scoped>\n",
       "    .dataframe tbody tr th:only-of-type {\n",
       "        vertical-align: middle;\n",
       "    }\n",
       "\n",
       "    .dataframe tbody tr th {\n",
       "        vertical-align: top;\n",
       "    }\n",
       "\n",
       "    .dataframe thead th {\n",
       "        text-align: right;\n",
       "    }\n",
       "</style>\n",
       "<table border=\"1\" class=\"dataframe\">\n",
       "  <thead>\n",
       "    <tr style=\"text-align: right;\">\n",
       "      <th></th>\n",
       "      <th></th>\n",
       "      <th>0</th>\n",
       "    </tr>\n",
       "  </thead>\n",
       "  <tbody>\n",
       "    <tr>\n",
       "      <th rowspan=\"5\" valign=\"top\">Radius</th>\n",
       "      <th>Radius</th>\n",
       "      <td>1.0</td>\n",
       "    </tr>\n",
       "    <tr>\n",
       "      <th>Height</th>\n",
       "      <td>0.06116</td>\n",
       "    </tr>\n",
       "    <tr>\n",
       "      <th>Pressure P1</th>\n",
       "      <td>-0.090382</td>\n",
       "    </tr>\n",
       "    <tr>\n",
       "      <th>Pressure P2</th>\n",
       "      <td>0.041975</td>\n",
       "    </tr>\n",
       "    <tr>\n",
       "      <th>Piston movement</th>\n",
       "      <td>-0.326952</td>\n",
       "    </tr>\n",
       "    <tr>\n",
       "      <th>...</th>\n",
       "      <th>...</th>\n",
       "      <td>...</td>\n",
       "    </tr>\n",
       "    <tr>\n",
       "      <th rowspan=\"4\" valign=\"top\">STAINLESS STEEL</th>\n",
       "      <th>red</th>\n",
       "      <td>-0.152783</td>\n",
       "    </tr>\n",
       "    <tr>\n",
       "      <th>white</th>\n",
       "      <td>-0.166667</td>\n",
       "    </tr>\n",
       "    <tr>\n",
       "      <th>yellow</th>\n",
       "      <td>-0.005809</td>\n",
       "    </tr>\n",
       "    <tr>\n",
       "      <th>STAINLESS STEEL</th>\n",
       "      <td>1.0</td>\n",
       "    </tr>\n",
       "    <tr>\n",
       "      <th>pairs</th>\n",
       "      <th></th>\n",
       "      <td>MultiIndex([(         'Radius',          'Radi...</td>\n",
       "    </tr>\n",
       "  </tbody>\n",
       "</table>\n",
       "<p>485 rows × 1 columns</p>\n",
       "</div>"
      ],
      "text/plain": [
       "                                                                                 0\n",
       "Radius          Radius                                                         1.0\n",
       "                Height                                                     0.06116\n",
       "                Pressure P1                                              -0.090382\n",
       "                Pressure P2                                               0.041975\n",
       "                Piston movement                                          -0.326952\n",
       "...                                                                            ...\n",
       "STAINLESS STEEL red                                                      -0.152783\n",
       "                white                                                    -0.166667\n",
       "                yellow                                                   -0.005809\n",
       "                STAINLESS STEEL                                                1.0\n",
       "pairs                            MultiIndex([(         'Radius',          'Radi...\n",
       "\n",
       "[485 rows x 1 columns]"
      ]
     },
     "execution_count": 125,
     "metadata": {},
     "output_type": "execute_result"
    }
   ],
   "source": [
    "dfc"
   ]
  },
  {
   "cell_type": "code",
   "execution_count": 126,
   "metadata": {},
   "outputs": [
    {
     "data": {
      "text/plain": [
       "Radius            -0.326952\n",
       "Height            -0.217908\n",
       "Pressure P1       -0.405633\n",
       "Pressure P2        0.317644\n",
       "Piston movement         1.0\n",
       "ALUMINUM           0.023637\n",
       "POLYSTYRENE       -0.066722\n",
       "PAPER              0.081747\n",
       "OAK                0.136939\n",
       "CONE               -0.01802\n",
       "SPHERE            -0.073103\n",
       "CUBE               0.143428\n",
       "CYLINDER          -0.066722\n",
       "IMP                0.230859\n",
       "MET               -0.230859\n",
       "orange             0.006063\n",
       "blue               0.021194\n",
       "black             -0.032642\n",
       "red                0.021194\n",
       "white              0.061338\n",
       "yellow            -0.073103\n",
       "STAINLESS STEEL   -0.108521\n",
       "dtype: object"
      ]
     },
     "execution_count": 126,
     "metadata": {},
     "output_type": "execute_result"
    }
   ],
   "source": [
    "corr_pairs['Piston movement']"
   ]
  },
  {
   "cell_type": "code",
   "execution_count": 136,
   "metadata": {},
   "outputs": [
    {
     "data": {
      "text/plain": [
       "Counter({'CONE': 3, 'CUBE': 4, 'SPHERE': 3, 'CYLINDER': 5})"
      ]
     },
     "execution_count": 136,
     "metadata": {},
     "output_type": "execute_result"
    }
   ],
   "source": [
    "Counter(df[df.Color=='red'].Shape.tolist())"
   ]
  },
  {
   "cell_type": "code",
   "execution_count": 139,
   "metadata": {},
   "outputs": [
    {
     "data": {
      "text/html": [
       "<div>\n",
       "<style scoped>\n",
       "    .dataframe tbody tr th:only-of-type {\n",
       "        vertical-align: middle;\n",
       "    }\n",
       "\n",
       "    .dataframe tbody tr th {\n",
       "        vertical-align: top;\n",
       "    }\n",
       "\n",
       "    .dataframe thead th {\n",
       "        text-align: right;\n",
       "    }\n",
       "</style>\n",
       "<table border=\"1\" class=\"dataframe\">\n",
       "  <thead>\n",
       "    <tr style=\"text-align: right;\">\n",
       "      <th></th>\n",
       "      <th>Material</th>\n",
       "      <th>Shape</th>\n",
       "      <th>Color</th>\n",
       "      <th>Radius</th>\n",
       "      <th>Height</th>\n",
       "      <th>Units (Imperial/Metric)</th>\n",
       "      <th>Pressure P1</th>\n",
       "      <th>Pressure P2</th>\n",
       "      <th>Piston movement</th>\n",
       "    </tr>\n",
       "  </thead>\n",
       "  <tbody>\n",
       "    <tr>\n",
       "      <th>2</th>\n",
       "      <td>POLYSTYRENE</td>\n",
       "      <td>CUBE</td>\n",
       "      <td>black</td>\n",
       "      <td>0.0</td>\n",
       "      <td>0.003048</td>\n",
       "      <td>I</td>\n",
       "      <td>93328</td>\n",
       "      <td>106262</td>\n",
       "      <td>1</td>\n",
       "    </tr>\n",
       "    <tr>\n",
       "      <th>4</th>\n",
       "      <td>POLYSTYRENE</td>\n",
       "      <td>CUBE</td>\n",
       "      <td>orange</td>\n",
       "      <td>0.0</td>\n",
       "      <td>0.060000</td>\n",
       "      <td>M</td>\n",
       "      <td>100407</td>\n",
       "      <td>106656</td>\n",
       "      <td>1</td>\n",
       "    </tr>\n",
       "    <tr>\n",
       "      <th>5</th>\n",
       "      <td>POLYSTYRENE</td>\n",
       "      <td>CUBE</td>\n",
       "      <td>red</td>\n",
       "      <td>0.0</td>\n",
       "      <td>0.009144</td>\n",
       "      <td>I</td>\n",
       "      <td>105055</td>\n",
       "      <td>96833</td>\n",
       "      <td>-1</td>\n",
       "    </tr>\n",
       "    <tr>\n",
       "      <th>9</th>\n",
       "      <td>POLYSTYRENE</td>\n",
       "      <td>CUBE</td>\n",
       "      <td>blue</td>\n",
       "      <td>0.0</td>\n",
       "      <td>0.040000</td>\n",
       "      <td>M</td>\n",
       "      <td>106568</td>\n",
       "      <td>98844</td>\n",
       "      <td>-1</td>\n",
       "    </tr>\n",
       "    <tr>\n",
       "      <th>10</th>\n",
       "      <td>STAINLESS STEEL</td>\n",
       "      <td>CUBE</td>\n",
       "      <td>orange</td>\n",
       "      <td>0.0</td>\n",
       "      <td>0.050000</td>\n",
       "      <td>M</td>\n",
       "      <td>95343</td>\n",
       "      <td>98121</td>\n",
       "      <td>-1</td>\n",
       "    </tr>\n",
       "    <tr>\n",
       "      <th>12</th>\n",
       "      <td>PAPER</td>\n",
       "      <td>CUBE</td>\n",
       "      <td>yellow</td>\n",
       "      <td>0.0</td>\n",
       "      <td>0.006096</td>\n",
       "      <td>I</td>\n",
       "      <td>103594</td>\n",
       "      <td>103441</td>\n",
       "      <td>-1</td>\n",
       "    </tr>\n",
       "    <tr>\n",
       "      <th>17</th>\n",
       "      <td>STAINLESS STEEL</td>\n",
       "      <td>CUBE</td>\n",
       "      <td>black</td>\n",
       "      <td>0.0</td>\n",
       "      <td>0.003048</td>\n",
       "      <td>I</td>\n",
       "      <td>93161</td>\n",
       "      <td>99214</td>\n",
       "      <td>1</td>\n",
       "    </tr>\n",
       "    <tr>\n",
       "      <th>24</th>\n",
       "      <td>POLYSTYRENE</td>\n",
       "      <td>CUBE</td>\n",
       "      <td>white</td>\n",
       "      <td>0.0</td>\n",
       "      <td>0.020000</td>\n",
       "      <td>M</td>\n",
       "      <td>109373</td>\n",
       "      <td>93090</td>\n",
       "      <td>-1</td>\n",
       "    </tr>\n",
       "    <tr>\n",
       "      <th>25</th>\n",
       "      <td>OAK</td>\n",
       "      <td>CUBE</td>\n",
       "      <td>black</td>\n",
       "      <td>0.0</td>\n",
       "      <td>0.100000</td>\n",
       "      <td>M</td>\n",
       "      <td>100160</td>\n",
       "      <td>99668</td>\n",
       "      <td>-1</td>\n",
       "    </tr>\n",
       "    <tr>\n",
       "      <th>27</th>\n",
       "      <td>ALUMINUM</td>\n",
       "      <td>CUBE</td>\n",
       "      <td>red</td>\n",
       "      <td>0.0</td>\n",
       "      <td>0.070000</td>\n",
       "      <td>M</td>\n",
       "      <td>94231</td>\n",
       "      <td>98119</td>\n",
       "      <td>-1</td>\n",
       "    </tr>\n",
       "    <tr>\n",
       "      <th>28</th>\n",
       "      <td>STAINLESS STEEL</td>\n",
       "      <td>CUBE</td>\n",
       "      <td>black</td>\n",
       "      <td>0.0</td>\n",
       "      <td>0.040000</td>\n",
       "      <td>M</td>\n",
       "      <td>105593</td>\n",
       "      <td>103914</td>\n",
       "      <td>-1</td>\n",
       "    </tr>\n",
       "    <tr>\n",
       "      <th>29</th>\n",
       "      <td>STAINLESS STEEL</td>\n",
       "      <td>CUBE</td>\n",
       "      <td>black</td>\n",
       "      <td>0.0</td>\n",
       "      <td>0.003048</td>\n",
       "      <td>I</td>\n",
       "      <td>101492</td>\n",
       "      <td>93867</td>\n",
       "      <td>-1</td>\n",
       "    </tr>\n",
       "    <tr>\n",
       "      <th>32</th>\n",
       "      <td>PAPER</td>\n",
       "      <td>CUBE</td>\n",
       "      <td>blue</td>\n",
       "      <td>0.0</td>\n",
       "      <td>0.010000</td>\n",
       "      <td>M</td>\n",
       "      <td>96404</td>\n",
       "      <td>101749</td>\n",
       "      <td>1</td>\n",
       "    </tr>\n",
       "    <tr>\n",
       "      <th>34</th>\n",
       "      <td>POLYSTYRENE</td>\n",
       "      <td>CUBE</td>\n",
       "      <td>black</td>\n",
       "      <td>0.0</td>\n",
       "      <td>0.070000</td>\n",
       "      <td>M</td>\n",
       "      <td>109139</td>\n",
       "      <td>108781</td>\n",
       "      <td>-1</td>\n",
       "    </tr>\n",
       "    <tr>\n",
       "      <th>36</th>\n",
       "      <td>ALUMINUM</td>\n",
       "      <td>CUBE</td>\n",
       "      <td>orange</td>\n",
       "      <td>0.0</td>\n",
       "      <td>0.060000</td>\n",
       "      <td>M</td>\n",
       "      <td>109412</td>\n",
       "      <td>103569</td>\n",
       "      <td>-1</td>\n",
       "    </tr>\n",
       "    <tr>\n",
       "      <th>39</th>\n",
       "      <td>ALUMINUM</td>\n",
       "      <td>CUBE</td>\n",
       "      <td>orange</td>\n",
       "      <td>0.0</td>\n",
       "      <td>0.080000</td>\n",
       "      <td>M</td>\n",
       "      <td>109811</td>\n",
       "      <td>93767</td>\n",
       "      <td>-1</td>\n",
       "    </tr>\n",
       "    <tr>\n",
       "      <th>41</th>\n",
       "      <td>POLYSTYRENE</td>\n",
       "      <td>CUBE</td>\n",
       "      <td>yellow</td>\n",
       "      <td>0.0</td>\n",
       "      <td>0.090000</td>\n",
       "      <td>M</td>\n",
       "      <td>101129</td>\n",
       "      <td>109930</td>\n",
       "      <td>1</td>\n",
       "    </tr>\n",
       "    <tr>\n",
       "      <th>42</th>\n",
       "      <td>STAINLESS STEEL</td>\n",
       "      <td>CUBE</td>\n",
       "      <td>black</td>\n",
       "      <td>0.0</td>\n",
       "      <td>0.018288</td>\n",
       "      <td>I</td>\n",
       "      <td>101576</td>\n",
       "      <td>106110</td>\n",
       "      <td>1</td>\n",
       "    </tr>\n",
       "    <tr>\n",
       "      <th>44</th>\n",
       "      <td>PAPER</td>\n",
       "      <td>CUBE</td>\n",
       "      <td>red</td>\n",
       "      <td>0.0</td>\n",
       "      <td>0.021336</td>\n",
       "      <td>I</td>\n",
       "      <td>104183</td>\n",
       "      <td>106896</td>\n",
       "      <td>1</td>\n",
       "    </tr>\n",
       "    <tr>\n",
       "      <th>49</th>\n",
       "      <td>STAINLESS STEEL</td>\n",
       "      <td>CUBE</td>\n",
       "      <td>black</td>\n",
       "      <td>0.0</td>\n",
       "      <td>0.080000</td>\n",
       "      <td>M</td>\n",
       "      <td>95949</td>\n",
       "      <td>103049</td>\n",
       "      <td>-1</td>\n",
       "    </tr>\n",
       "    <tr>\n",
       "      <th>52</th>\n",
       "      <td>OAK</td>\n",
       "      <td>CUBE</td>\n",
       "      <td>yellow</td>\n",
       "      <td>0.0</td>\n",
       "      <td>0.080000</td>\n",
       "      <td>M</td>\n",
       "      <td>111367</td>\n",
       "      <td>93435</td>\n",
       "      <td>-1</td>\n",
       "    </tr>\n",
       "    <tr>\n",
       "      <th>59</th>\n",
       "      <td>POLYSTYRENE</td>\n",
       "      <td>CUBE</td>\n",
       "      <td>white</td>\n",
       "      <td>0.0</td>\n",
       "      <td>0.030000</td>\n",
       "      <td>M</td>\n",
       "      <td>105602</td>\n",
       "      <td>96600</td>\n",
       "      <td>-1</td>\n",
       "    </tr>\n",
       "    <tr>\n",
       "      <th>69</th>\n",
       "      <td>PAPER</td>\n",
       "      <td>CUBE</td>\n",
       "      <td>white</td>\n",
       "      <td>0.0</td>\n",
       "      <td>0.090000</td>\n",
       "      <td>M</td>\n",
       "      <td>96679</td>\n",
       "      <td>103124</td>\n",
       "      <td>1</td>\n",
       "    </tr>\n",
       "    <tr>\n",
       "      <th>72</th>\n",
       "      <td>ALUMINUM</td>\n",
       "      <td>CUBE</td>\n",
       "      <td>red</td>\n",
       "      <td>0.0</td>\n",
       "      <td>0.060000</td>\n",
       "      <td>M</td>\n",
       "      <td>99068</td>\n",
       "      <td>111869</td>\n",
       "      <td>1</td>\n",
       "    </tr>\n",
       "    <tr>\n",
       "      <th>74</th>\n",
       "      <td>POLYSTYRENE</td>\n",
       "      <td>CUBE</td>\n",
       "      <td>black</td>\n",
       "      <td>0.0</td>\n",
       "      <td>0.020000</td>\n",
       "      <td>M</td>\n",
       "      <td>103645</td>\n",
       "      <td>102453</td>\n",
       "      <td>-1</td>\n",
       "    </tr>\n",
       "    <tr>\n",
       "      <th>86</th>\n",
       "      <td>STAINLESS STEEL</td>\n",
       "      <td>CUBE</td>\n",
       "      <td>orange</td>\n",
       "      <td>0.0</td>\n",
       "      <td>0.015240</td>\n",
       "      <td>I</td>\n",
       "      <td>92122</td>\n",
       "      <td>98867</td>\n",
       "      <td>1</td>\n",
       "    </tr>\n",
       "    <tr>\n",
       "      <th>87</th>\n",
       "      <td>STAINLESS STEEL</td>\n",
       "      <td>CUBE</td>\n",
       "      <td>blue</td>\n",
       "      <td>0.0</td>\n",
       "      <td>0.020000</td>\n",
       "      <td>M</td>\n",
       "      <td>100858</td>\n",
       "      <td>109187</td>\n",
       "      <td>1</td>\n",
       "    </tr>\n",
       "    <tr>\n",
       "      <th>89</th>\n",
       "      <td>POLYSTYRENE</td>\n",
       "      <td>CUBE</td>\n",
       "      <td>black</td>\n",
       "      <td>0.0</td>\n",
       "      <td>0.080000</td>\n",
       "      <td>M</td>\n",
       "      <td>99428</td>\n",
       "      <td>98153</td>\n",
       "      <td>-1</td>\n",
       "    </tr>\n",
       "    <tr>\n",
       "      <th>99</th>\n",
       "      <td>POLYSTYRENE</td>\n",
       "      <td>CUBE</td>\n",
       "      <td>white</td>\n",
       "      <td>0.0</td>\n",
       "      <td>0.040000</td>\n",
       "      <td>M</td>\n",
       "      <td>97513</td>\n",
       "      <td>99863</td>\n",
       "      <td>1</td>\n",
       "    </tr>\n",
       "  </tbody>\n",
       "</table>\n",
       "</div>"
      ],
      "text/plain": [
       "           Material Shape   Color  Radius    Height Units (Imperial/Metric)   \n",
       "2       POLYSTYRENE  CUBE   black     0.0  0.003048                       I  \\\n",
       "4       POLYSTYRENE  CUBE  orange     0.0  0.060000                       M   \n",
       "5       POLYSTYRENE  CUBE     red     0.0  0.009144                       I   \n",
       "9       POLYSTYRENE  CUBE    blue     0.0  0.040000                       M   \n",
       "10  STAINLESS STEEL  CUBE  orange     0.0  0.050000                       M   \n",
       "12            PAPER  CUBE  yellow     0.0  0.006096                       I   \n",
       "17  STAINLESS STEEL  CUBE   black     0.0  0.003048                       I   \n",
       "24      POLYSTYRENE  CUBE   white     0.0  0.020000                       M   \n",
       "25              OAK  CUBE   black     0.0  0.100000                       M   \n",
       "27         ALUMINUM  CUBE     red     0.0  0.070000                       M   \n",
       "28  STAINLESS STEEL  CUBE   black     0.0  0.040000                       M   \n",
       "29  STAINLESS STEEL  CUBE   black     0.0  0.003048                       I   \n",
       "32            PAPER  CUBE    blue     0.0  0.010000                       M   \n",
       "34      POLYSTYRENE  CUBE   black     0.0  0.070000                       M   \n",
       "36         ALUMINUM  CUBE  orange     0.0  0.060000                       M   \n",
       "39         ALUMINUM  CUBE  orange     0.0  0.080000                       M   \n",
       "41      POLYSTYRENE  CUBE  yellow     0.0  0.090000                       M   \n",
       "42  STAINLESS STEEL  CUBE   black     0.0  0.018288                       I   \n",
       "44            PAPER  CUBE     red     0.0  0.021336                       I   \n",
       "49  STAINLESS STEEL  CUBE   black     0.0  0.080000                       M   \n",
       "52              OAK  CUBE  yellow     0.0  0.080000                       M   \n",
       "59      POLYSTYRENE  CUBE   white     0.0  0.030000                       M   \n",
       "69            PAPER  CUBE   white     0.0  0.090000                       M   \n",
       "72         ALUMINUM  CUBE     red     0.0  0.060000                       M   \n",
       "74      POLYSTYRENE  CUBE   black     0.0  0.020000                       M   \n",
       "86  STAINLESS STEEL  CUBE  orange     0.0  0.015240                       I   \n",
       "87  STAINLESS STEEL  CUBE    blue     0.0  0.020000                       M   \n",
       "89      POLYSTYRENE  CUBE   black     0.0  0.080000                       M   \n",
       "99      POLYSTYRENE  CUBE   white     0.0  0.040000                       M   \n",
       "\n",
       "    Pressure P1  Pressure P2  Piston movement  \n",
       "2         93328       106262                1  \n",
       "4        100407       106656                1  \n",
       "5        105055        96833               -1  \n",
       "9        106568        98844               -1  \n",
       "10        95343        98121               -1  \n",
       "12       103594       103441               -1  \n",
       "17        93161        99214                1  \n",
       "24       109373        93090               -1  \n",
       "25       100160        99668               -1  \n",
       "27        94231        98119               -1  \n",
       "28       105593       103914               -1  \n",
       "29       101492        93867               -1  \n",
       "32        96404       101749                1  \n",
       "34       109139       108781               -1  \n",
       "36       109412       103569               -1  \n",
       "39       109811        93767               -1  \n",
       "41       101129       109930                1  \n",
       "42       101576       106110                1  \n",
       "44       104183       106896                1  \n",
       "49        95949       103049               -1  \n",
       "52       111367        93435               -1  \n",
       "59       105602        96600               -1  \n",
       "69        96679       103124                1  \n",
       "72        99068       111869                1  \n",
       "74       103645       102453               -1  \n",
       "86        92122        98867                1  \n",
       "87       100858       109187                1  \n",
       "89        99428        98153               -1  \n",
       "99        97513        99863                1  "
      ]
     },
     "execution_count": 139,
     "metadata": {},
     "output_type": "execute_result"
    }
   ],
   "source": [
    "\n",
    "df[df.Shape=='CUBE']"
   ]
  },
  {
   "cell_type": "code",
   "execution_count": 140,
   "metadata": {},
   "outputs": [
    {
     "data": {
      "text/html": [
       "<div>\n",
       "<style scoped>\n",
       "    .dataframe tbody tr th:only-of-type {\n",
       "        vertical-align: middle;\n",
       "    }\n",
       "\n",
       "    .dataframe tbody tr th {\n",
       "        vertical-align: top;\n",
       "    }\n",
       "\n",
       "    .dataframe thead th {\n",
       "        text-align: right;\n",
       "    }\n",
       "</style>\n",
       "<table border=\"1\" class=\"dataframe\">\n",
       "  <thead>\n",
       "    <tr style=\"text-align: right;\">\n",
       "      <th></th>\n",
       "      <th>Radius</th>\n",
       "      <th>Height</th>\n",
       "      <th>Pressure P1</th>\n",
       "      <th>Pressure P2</th>\n",
       "      <th>Piston movement</th>\n",
       "    </tr>\n",
       "  </thead>\n",
       "  <tbody>\n",
       "    <tr>\n",
       "      <th>count</th>\n",
       "      <td>29.0</td>\n",
       "      <td>29.000000</td>\n",
       "      <td>29.000000</td>\n",
       "      <td>29.000000</td>\n",
       "      <td>29.000000</td>\n",
       "    </tr>\n",
       "    <tr>\n",
       "      <th>mean</th>\n",
       "      <td>0.0</td>\n",
       "      <td>0.043767</td>\n",
       "      <td>101454.827586</td>\n",
       "      <td>101566.586207</td>\n",
       "      <td>-0.172414</td>\n",
       "    </tr>\n",
       "    <tr>\n",
       "      <th>std</th>\n",
       "      <td>0.0</td>\n",
       "      <td>0.031350</td>\n",
       "      <td>5548.759862</td>\n",
       "      <td>5240.614574</td>\n",
       "      <td>1.002460</td>\n",
       "    </tr>\n",
       "    <tr>\n",
       "      <th>min</th>\n",
       "      <td>0.0</td>\n",
       "      <td>0.003048</td>\n",
       "      <td>92122.000000</td>\n",
       "      <td>93090.000000</td>\n",
       "      <td>-1.000000</td>\n",
       "    </tr>\n",
       "    <tr>\n",
       "      <th>25%</th>\n",
       "      <td>0.0</td>\n",
       "      <td>0.018288</td>\n",
       "      <td>96679.000000</td>\n",
       "      <td>98121.000000</td>\n",
       "      <td>-1.000000</td>\n",
       "    </tr>\n",
       "    <tr>\n",
       "      <th>50%</th>\n",
       "      <td>0.0</td>\n",
       "      <td>0.040000</td>\n",
       "      <td>101129.000000</td>\n",
       "      <td>101749.000000</td>\n",
       "      <td>-1.000000</td>\n",
       "    </tr>\n",
       "    <tr>\n",
       "      <th>75%</th>\n",
       "      <td>0.0</td>\n",
       "      <td>0.070000</td>\n",
       "      <td>105593.000000</td>\n",
       "      <td>106110.000000</td>\n",
       "      <td>1.000000</td>\n",
       "    </tr>\n",
       "    <tr>\n",
       "      <th>max</th>\n",
       "      <td>0.0</td>\n",
       "      <td>0.100000</td>\n",
       "      <td>111367.000000</td>\n",
       "      <td>111869.000000</td>\n",
       "      <td>1.000000</td>\n",
       "    </tr>\n",
       "  </tbody>\n",
       "</table>\n",
       "</div>"
      ],
      "text/plain": [
       "       Radius     Height    Pressure P1    Pressure P2  Piston movement\n",
       "count    29.0  29.000000      29.000000      29.000000        29.000000\n",
       "mean      0.0   0.043767  101454.827586  101566.586207        -0.172414\n",
       "std       0.0   0.031350    5548.759862    5240.614574         1.002460\n",
       "min       0.0   0.003048   92122.000000   93090.000000        -1.000000\n",
       "25%       0.0   0.018288   96679.000000   98121.000000        -1.000000\n",
       "50%       0.0   0.040000  101129.000000  101749.000000        -1.000000\n",
       "75%       0.0   0.070000  105593.000000  106110.000000         1.000000\n",
       "max       0.0   0.100000  111367.000000  111869.000000         1.000000"
      ]
     },
     "execution_count": 140,
     "metadata": {},
     "output_type": "execute_result"
    }
   ],
   "source": [
    "df[df.Shape=='CUBE'].describe()"
   ]
  },
  {
   "cell_type": "code",
   "execution_count": 145,
   "metadata": {},
   "outputs": [
    {
     "data": {
      "text/html": [
       "<div>\n",
       "<style scoped>\n",
       "    .dataframe tbody tr th:only-of-type {\n",
       "        vertical-align: middle;\n",
       "    }\n",
       "\n",
       "    .dataframe tbody tr th {\n",
       "        vertical-align: top;\n",
       "    }\n",
       "\n",
       "    .dataframe thead th {\n",
       "        text-align: right;\n",
       "    }\n",
       "</style>\n",
       "<table border=\"1\" class=\"dataframe\">\n",
       "  <thead>\n",
       "    <tr style=\"text-align: right;\">\n",
       "      <th></th>\n",
       "      <th>Material</th>\n",
       "      <th>Shape</th>\n",
       "      <th>Color</th>\n",
       "      <th>Radius</th>\n",
       "      <th>Height</th>\n",
       "      <th>Units (Imperial/Metric)</th>\n",
       "      <th>Pressure P1</th>\n",
       "      <th>Pressure P2</th>\n",
       "      <th>Piston movement</th>\n",
       "    </tr>\n",
       "    <tr>\n",
       "      <th>Shape</th>\n",
       "      <th></th>\n",
       "      <th></th>\n",
       "      <th></th>\n",
       "      <th></th>\n",
       "      <th></th>\n",
       "      <th></th>\n",
       "      <th></th>\n",
       "      <th></th>\n",
       "      <th></th>\n",
       "    </tr>\n",
       "  </thead>\n",
       "  <tbody>\n",
       "    <tr>\n",
       "      <th>CONE</th>\n",
       "      <td>STAINLESS STEELPAPERPOLYSTYRENEALUMINUMPAPERST...</td>\n",
       "      <td>CONECONECONECONECONECONECONECONECONECONECONECO...</td>\n",
       "      <td>orangeredwhitewhiteyellowredwhiteyelloworangeb...</td>\n",
       "      <td>1.367160</td>\n",
       "      <td>1.119728</td>\n",
       "      <td>IMIMMMIMMMMIIIIMMMMMMMMMMMM</td>\n",
       "      <td>2726090</td>\n",
       "      <td>2754101</td>\n",
       "      <td>-11</td>\n",
       "    </tr>\n",
       "    <tr>\n",
       "      <th>CUBE</th>\n",
       "      <td>POLYSTYRENEPOLYSTYRENEPOLYSTYRENEPOLYSTYRENEST...</td>\n",
       "      <td>CUBECUBECUBECUBECUBECUBECUBECUBECUBECUBECUBECU...</td>\n",
       "      <td>blackorangeredblueorangeyellowblackwhiteblackr...</td>\n",
       "      <td>0.000000</td>\n",
       "      <td>1.269248</td>\n",
       "      <td>IMIMMIIMMMMIMMMMMIIMMMMMMIMMM</td>\n",
       "      <td>2942190</td>\n",
       "      <td>2945431</td>\n",
       "      <td>-5</td>\n",
       "    </tr>\n",
       "    <tr>\n",
       "      <th>CYLINDER</th>\n",
       "      <td>PAPERALUMINUMSTAINLESS STEELSTAINLESS STEELOAK...</td>\n",
       "      <td>CYLINDERCYLINDERCYLINDERCYLINDERCYLINDERCYLIND...</td>\n",
       "      <td>yellowwhiteblueyellowyellowblueorangeblackwhit...</td>\n",
       "      <td>1.052296</td>\n",
       "      <td>1.535824</td>\n",
       "      <td>MIMIMMIMMMMMMMMMMMMIIMMIMMM</td>\n",
       "      <td>2799962</td>\n",
       "      <td>2765016</td>\n",
       "      <td>-13</td>\n",
       "    </tr>\n",
       "    <tr>\n",
       "      <th>SPHERE</th>\n",
       "      <td>ALUMINUMALUMINUMPOLYSTYRENEALUMINUMALUMINUMPOL...</td>\n",
       "      <td>SPHERESPHERESPHERESPHERESPHERESPHERESPHERESPHE...</td>\n",
       "      <td>bluewhiteorangebluebluewhiteredyellowredbluebl...</td>\n",
       "      <td>0.896576</td>\n",
       "      <td>0.000000</td>\n",
       "      <td>MMMIMMMIIMMMMMMMM</td>\n",
       "      <td>1715458</td>\n",
       "      <td>1726510</td>\n",
       "      <td>-9</td>\n",
       "    </tr>\n",
       "  </tbody>\n",
       "</table>\n",
       "</div>"
      ],
      "text/plain": [
       "                                                   Material   \n",
       "Shape                                                         \n",
       "CONE      STAINLESS STEELPAPERPOLYSTYRENEALUMINUMPAPERST...  \\\n",
       "CUBE      POLYSTYRENEPOLYSTYRENEPOLYSTYRENEPOLYSTYRENEST...   \n",
       "CYLINDER  PAPERALUMINUMSTAINLESS STEELSTAINLESS STEELOAK...   \n",
       "SPHERE    ALUMINUMALUMINUMPOLYSTYRENEALUMINUMALUMINUMPOL...   \n",
       "\n",
       "                                                      Shape   \n",
       "Shape                                                         \n",
       "CONE      CONECONECONECONECONECONECONECONECONECONECONECO...  \\\n",
       "CUBE      CUBECUBECUBECUBECUBECUBECUBECUBECUBECUBECUBECU...   \n",
       "CYLINDER  CYLINDERCYLINDERCYLINDERCYLINDERCYLINDERCYLIND...   \n",
       "SPHERE    SPHERESPHERESPHERESPHERESPHERESPHERESPHERESPHE...   \n",
       "\n",
       "                                                      Color    Radius   \n",
       "Shape                                                                   \n",
       "CONE      orangeredwhitewhiteyellowredwhiteyelloworangeb...  1.367160  \\\n",
       "CUBE      blackorangeredblueorangeyellowblackwhiteblackr...  0.000000   \n",
       "CYLINDER  yellowwhiteblueyellowyellowblueorangeblackwhit...  1.052296   \n",
       "SPHERE    bluewhiteorangebluebluewhiteredyellowredbluebl...  0.896576   \n",
       "\n",
       "            Height        Units (Imperial/Metric)  Pressure P1  Pressure P2   \n",
       "Shape                                                                         \n",
       "CONE      1.119728    IMIMMMIMMMMIIIIMMMMMMMMMMMM      2726090      2754101  \\\n",
       "CUBE      1.269248  IMIMMIIMMMMIMMMMMIIMMMMMMIMMM      2942190      2945431   \n",
       "CYLINDER  1.535824    MIMIMMIMMMMMMMMMMMMIIMMIMMM      2799962      2765016   \n",
       "SPHERE    0.000000              MMMIMMMIIMMMMMMMM      1715458      1726510   \n",
       "\n",
       "          Piston movement  \n",
       "Shape                      \n",
       "CONE                  -11  \n",
       "CUBE                   -5  \n",
       "CYLINDER              -13  \n",
       "SPHERE                 -9  "
      ]
     },
     "execution_count": 145,
     "metadata": {},
     "output_type": "execute_result"
    }
   ],
   "source": [
    "df.groupby('Shape').apply(sum)"
   ]
  },
  {
   "cell_type": "code",
   "execution_count": null,
   "metadata": {},
   "outputs": [],
   "source": []
  }
 ],
 "metadata": {
  "kernelspec": {
   "display_name": "env",
   "language": "python",
   "name": "python3"
  },
  "language_info": {
   "codemirror_mode": {
    "name": "ipython",
    "version": 3
   },
   "file_extension": ".py",
   "mimetype": "text/x-python",
   "name": "python",
   "nbconvert_exporter": "python",
   "pygments_lexer": "ipython3",
   "version": "3.10.5"
  },
  "orig_nbformat": 4
 },
 "nbformat": 4,
 "nbformat_minor": 2
}
