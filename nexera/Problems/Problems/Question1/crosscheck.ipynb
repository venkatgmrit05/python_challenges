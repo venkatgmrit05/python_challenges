{
 "cells": [
  {
   "cell_type": "code",
   "execution_count": 8,
   "metadata": {},
   "outputs": [],
   "source": [
    "import math"
   ]
  },
  {
   "cell_type": "code",
   "execution_count": 9,
   "metadata": {},
   "outputs": [],
   "source": [
    "densities = {'OAK' :690,\n",
    "'ALUMINUM' :2700,\n",
    "'PAPER' : 700,\n",
    "'STAINLESS_STEEL' : 585,\n",
    "'POLYSTYRENE' :920,\n",
    "}\n",
    "\n",
    "materials = {\n",
    "    'OAK': 0,\n",
    "    'ALUMINUM': 1,\n",
    "    'PAPER': 2,\n",
    "    'STAINLESS_STEEL': 3,\n",
    "    'POLYSTYRENE': 4,\n",
    "}\n",
    "\n",
    "shapes = {\n",
    "    'CUBE': 0,\n",
    "    'SPHERE': 1,\n",
    "    'CYLINDER': 2,\n",
    "    'CONE': 3,\n",
    "}\n",
    "\n",
    "GRAVITY_MS2 = 9.81"
   ]
  },
  {
   "cell_type": "code",
   "execution_count": 10,
   "metadata": {},
   "outputs": [],
   "source": [
    "mat = 'PAPER'\n",
    "shape_ = 'CUBE'\n",
    "radius = 0\n",
    "height = 0.08\n",
    "pi = math.pi"
   ]
  },
  {
   "cell_type": "code",
   "execution_count": 14,
   "metadata": {},
   "outputs": [
    {
     "data": {
      "text/plain": [
       "3.515904000000001"
      ]
     },
     "execution_count": 14,
     "metadata": {},
     "output_type": "execute_result"
    }
   ],
   "source": [
    "\n",
    "shape = shapes[shape_]\n",
    "den_ss = densities[mat]\n",
    "vols={\n",
    "    'CUBE': height ** 3,\n",
    "    'SPHERE': 4.0 / 3.0 * math.pi * (radius ** 3),\n",
    "    'CYLINDER': math.pi * (radius ** 2) * height,\n",
    "    'CONE': math.pi * (radius ** 2) * height / 3.0,\n",
    "}\n",
    "\n",
    "vol_obj = vols[shape_]\n",
    "\n",
    "mass = vol_obj*den_ss\n",
    "mass\n",
    "\n",
    "weight = mass*GRAVITY_MS2\n",
    "weight"
   ]
  },
  {
   "cell_type": "code",
   "execution_count": 12,
   "metadata": {},
   "outputs": [
    {
     "data": {
      "text/plain": [
       "0.53125"
      ]
     },
     "execution_count": 12,
     "metadata": {},
     "output_type": "execute_result"
    }
   ],
   "source": [
    "piston_area = 0.00125\n",
    "p1 = 101325\n",
    "p2 = 101750\n",
    "\n",
    "del_p = p2-p1\n",
    "force = del_p*piston_area\n",
    "force\n",
    "\n"
   ]
  },
  {
   "cell_type": "code",
   "execution_count": 13,
   "metadata": {},
   "outputs": [
    {
     "data": {
      "text/plain": [
       "'Down'"
      ]
     },
     "execution_count": 13,
     "metadata": {},
     "output_type": "execute_result"
    }
   ],
   "source": [
    "if force > weight:\n",
    "    ret= \"Up\"\n",
    "elif force == weight:\n",
    "    ret=  \"Neutral\"\n",
    "else:\n",
    "    ret=  \"Down\"\n",
    "\n",
    "ret"
   ]
  },
  {
   "cell_type": "code",
   "execution_count": null,
   "metadata": {},
   "outputs": [],
   "source": []
  }
 ],
 "metadata": {
  "kernelspec": {
   "display_name": "env",
   "language": "python",
   "name": "python3"
  },
  "language_info": {
   "codemirror_mode": {
    "name": "ipython",
    "version": 3
   },
   "file_extension": ".py",
   "mimetype": "text/x-python",
   "name": "python",
   "nbconvert_exporter": "python",
   "pygments_lexer": "ipython3",
   "version": "3.10.5"
  },
  "orig_nbformat": 4
 },
 "nbformat": 4,
 "nbformat_minor": 2
}
